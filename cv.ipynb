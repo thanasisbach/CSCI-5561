{
 "cells": [
  {
   "cell_type": "code",
   "execution_count": 1,
   "metadata": {},
   "outputs": [],
   "source": [
    "import numpy as np\n",
    "import os\n",
    "from pathlib import Path, PureWindowsPath\n",
    "import cv2\n",
    "import matplotlib.pyplot as plt\n",
    "import torch\n",
    "import torch.nn as nn\n",
    "import torch.nn.parallel\n",
    "import torch.backends.cudnn as cudnn\n",
    "import torch.optim as optim\n",
    "import torch.utils.data\n",
    "import torchvision.datasets as dset\n",
    "import torchvision.transforms as transforms\n",
    "import torchvision.utils as vutils\n",
    "from torch.utils.data import TensorDataset, DataLoader, Dataset\n",
    "from PIL import Image as im\n",
    "import matplotlib.animation as animation\n",
    "from IPython.display import HTML"
   ]
  },
  {
   "cell_type": "code",
   "execution_count": 2,
   "metadata": {},
   "outputs": [],
   "source": [
    "data_path_train = \"data/Training_set/\"\n",
    "subject = \"subject_\" # need to fill the last number\n",
    "folder = \"00000\" # need to add the last three numbers\n",
    "f = open(os.path.join(data_path_train, \"train_pair.txt\"), \"r\")\n",
    "contents_train = f.readlines()\n",
    "train_image, train_kp, gt_train_image = [], [], []\n",
    "er = 0\n",
    "for sample in contents_train:\n",
    "\n",
    "    sample = sample.split()\n",
    "    inp, gt = sample[0], sample[1] # , sample[2]\n",
    "    # print(inp)\n",
    "    # print(gt)\n",
    "    # print(gt.split('.'))\n",
    "\n",
    "    inp_1, inp_2 = inp.split('_')[0],  inp.split('_')[1]\n",
    "\n",
    "    # input\n",
    "    subject_in = subject + str(int(inp_1))\n",
    "    folder_in = folder + inp_2\n",
    "\n",
    "    # ground truth\n",
    "\n",
    "    gt_1, gt_2 = gt.split('_')[0],  gt.split('_')[1]\n",
    "    subject_gt = subject + str(int(gt_1))\n",
    "    folder_gt = folder + gt_2\n",
    "\n",
    "\n",
    "    # print(subject_in)\n",
    "    # print(folder_in)\n",
    "\n",
    "    # print(subject_gt)\n",
    "    # print(folder_gt)\n",
    "\n",
    "    im_train = data_path_train + subject_in + '/' + folder_in + '/image/' + inp\n",
    "    kp_train = data_path_train + subject_gt + '/' + folder_gt + '/keypoints/' + gt.split('.')[0] + '.txt'\n",
    "\n",
    "    im_gt = data_path_train + subject_gt + '/' + folder_gt + '/image/' + gt\n",
    "\n",
    "\n",
    "    tmp_im = cv2.imread(im_train, 0)\n",
    "\n",
    "    if tmp_im is not None:\n",
    "\n",
    "        er_kp = np.loadtxt(kp_train)\n",
    "\n",
    "        train_image.append(im_train)\n",
    "        train_kp.append(kp_train)\n",
    "        gt_train_image.append(im_gt)\n",
    "\n",
    "    # print(im_train)\n",
    "    # print(kp_train)\n",
    "    # print(im_gt)\n",
    "\n",
    "    \n",
    "\n",
    "    # print(er_kp)\n",
    "\n",
    "    if tmp_im is None:\n",
    "        er += 1\n",
    "\n",
    "    # print(tmp_im.shape)\n",
    "    # print(train_image)\n",
    "    # cv2.imshow(tmp_im)\n",
    "    # plt.imshow(tmp_im, cmap='gray')\n",
    "    # plt.show()\n",
    "\n",
    "    # break\n"
   ]
  },
  {
   "cell_type": "code",
   "execution_count": 3,
   "metadata": {},
   "outputs": [
    {
     "name": "stdout",
     "output_type": "stream",
     "text": [
      "1000\n",
      "100000\n"
     ]
    }
   ],
   "source": [
    "print(er)\n",
    "print(len(gt_train_image))"
   ]
  },
  {
   "cell_type": "code",
   "execution_count": 4,
   "metadata": {},
   "outputs": [],
   "source": [
    "def load_pose_cords_from_strings(keypoint):\n",
    "    key2D = np.loadtxt(keypoint)\n",
    "    x = np.array(18)\n",
    "    y = np.array(18)\n",
    "\n",
    "    x = key2D[:,0]\n",
    "    y = key2D[:,1]\n",
    "    y_cords = x#json.loads(y)\n",
    "    x_cords = y#json.loads(x)\n",
    "\n",
    "    return np.concatenate([np.expand_dims(y_cords, -1), np.expand_dims(x_cords, -1)], axis=1)"
   ]
  },
  {
   "cell_type": "code",
   "execution_count": 5,
   "metadata": {},
   "outputs": [],
   "source": [
    "def gaussian(img, pt, sigma):\n",
    "    # Draw a 2D gaussian\n",
    "    if (pt[0] == 0.0) and (pt[1] == 0.0):\n",
    "        return img\n",
    "\n",
    "    # Check that any part of the gaussian is in-bounds\n",
    "    ul = [int(pt[0] - 3 * sigma), int(pt[1] - 3 * sigma)]\n",
    "    br = [int(pt[0] + 3 * sigma + 1), int(pt[1] + 3 * sigma + 1)]\n",
    "    if (ul[0] > img.shape[1] or ul[1] >= img.shape[0] or\n",
    "            br[0] < 0 or br[1] < 0):\n",
    "        # If not, just return the image as is\n",
    "        return img\n",
    "\n",
    "    # Generate gaussian\n",
    "    size = 6 * sigma + 1\n",
    "    x = np.arange(0, size, 1, float)\n",
    "    y = x[:, np.newaxis]\n",
    "    x0 = y0 = size // 2\n",
    "    # The gaussian is not normalized, we want the center value to equal 1\n",
    "    g = np.exp(- ((x - x0) ** 2 + (y - y0) ** 2) / (2 * sigma ** 2))\n",
    "\n",
    "    # Usable gaussian range\n",
    "    g_x = max(0, -ul[0]), min(br[0], img.shape[1]) - ul[0]\n",
    "    g_y = max(0, -ul[1]), min(br[1], img.shape[0]) - ul[1]\n",
    "    # Image range\n",
    "    img_x = max(0, ul[0]), min(br[0], img.shape[1])\n",
    "    img_y = max(0, ul[1]), min(br[1], img.shape[0])\n",
    "\n",
    "    img[img_y[0]:img_y[1], img_x[0]:img_x[1]] = g[g_y[0]:g_y[1], g_x[0]:g_x[1]]\n",
    "    return img"
   ]
  },
  {
   "cell_type": "code",
   "execution_count": 6,
   "metadata": {},
   "outputs": [],
   "source": [
    "def test(file):\n",
    "    coor = load_pose_cords_from_strings(file)\n",
    "    # print(coor)\n",
    "    img = np.zeros((256,256))\n",
    "    im_list = []\n",
    "    for i in range(18):\n",
    "    \t\n",
    "    \t# img += gaussian(img,[coor[i,0],coor[i,1]], 5)\n",
    "        im_list.append(gaussian(img,[coor[i,0],coor[i,1]], 1))\n",
    "    \n",
    "\n",
    "    for i in im_list:\n",
    "        img += i\n",
    "    \n",
    "    #img = cv2.resize(img, ((64,64)))\n",
    "    # plt.figure()\n",
    "    # plt.imshow(img)\n",
    "    # plt.show()\n",
    "    return img"
   ]
  },
  {
   "cell_type": "code",
   "execution_count": 7,
   "metadata": {},
   "outputs": [],
   "source": [
    "kp_images = []\n",
    "gt_images = []\n",
    "images = []\n",
    "for i in range(50000): # len(train_kp)\n",
    "    gt_im = test(train_kp[i])\n",
    "\n",
    "    images.append(cv2.imread(train_image[i]))\n",
    "\n",
    "    gt_images.append(cv2.imread(gt_train_image[i]))\n",
    "\n",
    "    kp_images.append(gt_im)\n",
    "    # if i == 5:\n",
    "    #     break"
   ]
  },
  {
   "cell_type": "code",
   "execution_count": 8,
   "metadata": {},
   "outputs": [
    {
     "data": {
      "text/plain": "50000"
     },
     "execution_count": 8,
     "metadata": {},
     "output_type": "execute_result"
    }
   ],
   "source": [
    "len(kp_images)"
   ]
  },
  {
   "cell_type": "code",
   "execution_count": 9,
   "metadata": {},
   "outputs": [
    {
     "name": "stderr",
     "output_type": "stream",
     "text": [
      "Clipping input data to the valid range for imshow with RGB data ([0..1] for floats or [0..255] for integers).\n"
     ]
    },
    {
     "data": {
      "image/png": "[encoded data removed]",
      "text/plain": "<Figure size 432x288 with 1 Axes>"
     },
     "metadata": {
      "needs_background": "light",
      "transient": {}
     },
     "output_type": "display_data"
    }
   ],
   "source": [
    "data = np.asarray(im.fromarray(kp_images[0]*255))\n",
    "\n",
    "color_img = cv2.cvtColor(data, cv2.COLOR_GRAY2RGB)\n",
    "\n",
    "plt.imshow(color_img)\n",
    "plt.show()"
   ]
  },
  {
   "cell_type": "code",
   "execution_count": 10,
   "metadata": {},
   "outputs": [
    {
     "data": {
      "text/plain": "True"
     },
     "execution_count": 10,
     "metadata": {},
     "output_type": "execute_result"
    }
   ],
   "source": [
    "cv2.imwrite( 'kp.jpeg',color_img)"
   ]
  },
  {
   "cell_type": "code",
   "execution_count": 11,
   "metadata": {},
   "outputs": [],
   "source": [
    "# preprocess the input data\n",
    "# concatenate source with keypoint\n",
    "concat_data = []\n",
    "concat_data2 = []\n",
    "for i in range(len(images)):\n",
    "\n",
    "    a = np.asarray(im.fromarray(kp_images[i]*255))\n",
    "    col_a = cv2.cvtColor(a, cv2.COLOR_GRAY2RGB) # take the rgb of the key points\n",
    "\n",
    "    kp_images[i] = cv2.resize(col_a, [64,64]) # /255\n",
    "\n",
    "    images[i] = cv2.resize(images[i], [64,64])\n",
    "\n",
    "    # print(kp_images[i].shape)\n",
    "    # print(images[i].shape)\n",
    "   \n",
    "\n",
    "    im_v = images[i] + kp_images[i] # cv2.hconcat( [images[i], kp_images[i]+images[i]] )# .reshape(64,64,3)\n",
    "    \n",
    "    # print(im_v.shape)\n",
    "\n",
    "    # resize image\n",
    "    im_v = im_v\n",
    "\n",
    "    concat_data.append(im_v) # .reshape([1,64,64])\n",
    "\n",
    "    # reshape the gt images\n",
    "    gt_images[i] = cv2.resize(gt_images[i], [64,64]) # .reshape([1,64,64]) # .reshape(256**2,1)\n",
    "\n",
    "    im_v2 = gt_images[i] + kp_images[i]  # cv2.vconcat(gt_images[i], kp_images[i]).reshape(64,64,3)\n",
    "    concat_data2.append(im_v2)\n",
    "\n",
    "    # tmp = images[i] + col_a\n",
    "    # plt.imshow(im_v)\n",
    "    # plt.show()\n",
    "    # print(im_v.shape)\n",
    "    # break"
   ]
  },
  {
   "cell_type": "code",
   "execution_count": 12,
   "metadata": {},
   "outputs": [
    {
     "name": "stderr",
     "output_type": "stream",
     "text": [
      "Clipping input data to the valid range for imshow with RGB data ([0..1] for floats or [0..255] for integers).\n"
     ]
    },
    {
     "data": {
      "image/png": "[encoded data removed]",
      "text/plain": "<Figure size 432x288 with 1 Axes>"
     },
     "metadata": {
      "needs_background": "light",
      "transient": {}
     },
     "output_type": "display_data"
    }
   ],
   "source": [
    "\n",
    "plt.imshow( concat_data[0].astype(int) )\n",
    "plt.show()"
   ]
  },
  {
   "cell_type": "code",
   "execution_count": 13,
   "metadata": {},
   "outputs": [
    {
     "data": {
      "text/plain": "True"
     },
     "execution_count": 13,
     "metadata": {},
     "output_type": "execute_result"
    }
   ],
   "source": [
    "cv2.imwrite( 'ex.jpeg',concat_data[0])"
   ]
  },
  {
   "cell_type": "code",
   "execution_count": 14,
   "metadata": {},
   "outputs": [
    {
     "data": {
      "text/plain": "numpy.ndarray"
     },
     "execution_count": 14,
     "metadata": {},
     "output_type": "execute_result"
    }
   ],
   "source": [
    "type(kp_images[0])"
   ]
  },
  {
   "cell_type": "code",
   "execution_count": 15,
   "metadata": {},
   "outputs": [
    {
     "name": "stdout",
     "output_type": "stream",
     "text": [
      "(64, 64, 3)\n"
     ]
    }
   ],
   "source": [
    "print(concat_data2[0].shape)"
   ]
  },
  {
   "cell_type": "code",
   "execution_count": 16,
   "metadata": {},
   "outputs": [],
   "source": [
    "class MyDataset(Dataset):\n",
    "    def __init__(self, x, y, z= None, k=None, transform=None, target_transform=None):\n",
    "        self.x = x.copy()\n",
    "        self.y = y.copy()\n",
    "        self.z = z.copy()\n",
    "        self.k = k.copy()\n",
    "        # self.data_paths = data_paths  # Could be a list: ['./train/input/image_1.bmp', './train/input/image_2.bmp', ...]\n",
    "        # self.label_paths = label_paths  # Could be a nested list: [['./train/GT/image_1_1.bmp', './train/GT/image_1_2.bmp', ...], ['./train/GT/image_2_1.bmp', './train/GT/image_2_2.bmp', ...]]\n",
    "        self.transform = transforms\n",
    "        self.target_transform = target_transform\n",
    "        \n",
    "    def __getitem__(self, index):\n",
    "        # x = Image.open(self.data_paths[index])\n",
    "        # if self.transform:\n",
    "        #     x = self.transform(x)\n",
    "\n",
    "        # ys = []\n",
    "        # for label_path in self.label_paths[index]:\n",
    "        #     y = Image.open(label_path)\n",
    "        #     if self.target_transform:\n",
    "        #         y = self.target_transform(y)\n",
    "        #     ys.append(y)\n",
    "\n",
    "        return torch.Tensor(self.x[index]).permute(2,0,1), torch.Tensor(self.y[index]).permute(2,0,1), torch.Tensor(self.z[index]).permute(2,0,1), torch.Tensor(self.k[index]).permute(2,0,1) # , self.z[index].permute(2,0,1), self.k[index].permute(2,0,1)\n",
    "\n",
    "    def __len__(self):\n",
    "        return len(self.x)"
   ]
  },
  {
   "cell_type": "code",
   "execution_count": 17,
   "metadata": {},
   "outputs": [
    {
     "name": "stdout",
     "output_type": "stream",
     "text": [
      "torch.Size([50000, 3, 64, 64])\n"
     ]
    }
   ],
   "source": [
    "# gt_images -> list of target images\n",
    "# concat_data -> list of source im and keypoint concatenated\n",
    "# images -> list of source images\n",
    "# kp_images -> list of keypoints as images\n",
    "\n",
    "my_x = concat_data # [0:1000]\n",
    "my_y = gt_images # [0:1000]\n",
    "my_z = images\n",
    "my_k = kp_images\n",
    "tensor_x1 = torch.Tensor(my_x)\n",
    "tensor_x = torch.Tensor(my_x).permute(0,3,1,2)\n",
    "tensor_y = torch.Tensor(my_y).permute(0,3,1,2)\n",
    "tensor_z = torch.Tensor(my_z).permute(0,3,1,2)\n",
    "tensor_k = torch.Tensor(my_k).permute(0,3,1,2)\n",
    "\n",
    "print(tensor_x.shape)\n",
    "\n",
    "dataset_x = MyDataset(my_x, my_y, my_z, my_k) # TensorDataset(tensor_x) , tensor_z, tensor_k\n",
    "# dataset_y = TensorDataset(tensor_y)\n",
    "\n",
    "# dataloader_x = DataLoader(dataset_x)\n",
    "# dataloader_y = DataLoader(dataset_y)\n",
    "\n",
    "dataloader_x = DataLoader(dataset_x, batch_size=64, shuffle=False, num_workers=2)\n",
    "# dataloader_y = DataLoader(dataset_y, batch_size=64, shuffle=False, num_workers=2)"
   ]
  },
  {
   "cell_type": "code",
   "execution_count": 18,
   "metadata": {},
   "outputs": [
    {
     "name": "stderr",
     "output_type": "stream",
     "text": [
      "Clipping input data to the valid range for imshow with RGB data ([0..1] for floats or [0..255] for integers).\n"
     ]
    },
    {
     "name": "stdout",
     "output_type": "stream",
     "text": [
      "torch.Size([64, 64, 3])\n"
     ]
    },
    {
     "data": {
      "image/png": "[encoded data removed]",
      "text/plain": "<Figure size 432x288 with 1 Axes>"
     },
     "metadata": {
      "needs_background": "light",
      "transient": {}
     },
     "output_type": "display_data"
    }
   ],
   "source": [
    "e = dataset_x.__getitem__(0)[0].permute(1,2,0) # .numpy()\n",
    "print(e.shape)\n",
    "i = tensor_x[0].permute(1,2,0)\n",
    "plt.imshow(e.int()) # .astype(np.uint8))\n",
    "plt.show()"
   ]
  },
  {
   "cell_type": "code",
   "execution_count": 19,
   "metadata": {},
   "outputs": [],
   "source": [
    "# Generator\n",
    "class Generator(nn.Module):\n",
    "    def __init__(self, ngpu):\n",
    "        super(Generator, self).__init__()\n",
    "        self.ngpu = ngpu\n",
    "        self.main = nn.Sequential(\n",
    "            # # input is Z, going into a convolution\n",
    "            # nn.ConvTranspose2d( nz, ngf * 8, 4, 1, 0, bias=False),\n",
    "            # nn.BatchNorm2d(ngf * 8),\n",
    "            # nn.ReLU(True),\n",
    "            # # state size. (ngf*8) x 4 x 4\n",
    "            # nn.ConvTranspose2d(ngf * 8, ngf * 4, 4, 2, 1, bias=False),\n",
    "            # nn.BatchNorm2d(ngf * 4),\n",
    "            # nn.ReLU(True),\n",
    "            # # state size. (ngf*4) x 8 x 8\n",
    "            # nn.ConvTranspose2d( ngf * 4, ngf * 2, 4, 2, 1, bias=False),\n",
    "            # nn.BatchNorm2d(ngf * 2),\n",
    "            # nn.ReLU(True),\n",
    "            # # state size. (ngf*2) x 16 x 16\n",
    "            # nn.ConvTranspose2d( ngf * 2, ngf, 4, 2, 1, bias=False),\n",
    "            # nn.BatchNorm2d(ngf),\n",
    "            # nn.ReLU(True),\n",
    "            # # state size. (ngf) x 32 x 32\n",
    "            # nn.ConvTranspose2d( ngf, nc, 4, 2, 1, bias=False),\n",
    "            # nn.Sigmoid()\n",
    "            # # state size. (nc) x 64 x 64\n",
    "\n",
    "            # nn.Linear(128,64),\n",
    "            # input is (nc) x 64 x 64\n",
    "            nn.Conv2d(nc, ndf, 3, 1, 1, bias=False),\n",
    "            nn.LeakyReLU(0.2, inplace=True),\n",
    "            # state size. (ndf) x 32 x 32\n",
    "            nn.Conv2d(ndf, ndf * 2, 3, 1, 1, bias=False),\n",
    "            nn.BatchNorm2d(ndf * 2),\n",
    "            nn.LeakyReLU(0.2, inplace=True),\n",
    "            # state size. (ndf*2) x 16 x 16\n",
    "            nn.Conv2d(ndf * 2, ndf * 4, 3, 1, 1, bias=False),\n",
    "            nn.BatchNorm2d(ndf * 4),\n",
    "            nn.LeakyReLU(0.2, inplace=True),\n",
    "            # state size. (ndf*4) x 8 x 8\n",
    "            nn.Conv2d(ndf * 4, ndf * 8, 3, 1, 1, bias=False),\n",
    "            nn.BatchNorm2d(ndf * 8),\n",
    "            nn.LeakyReLU(0.2, inplace=True),\n",
    "            # state size. (ndf*8) x 4 x 4\n",
    "            # nn.Conv2d(ndf * 8, 1, 4, 1, 0, bias=False),\n",
    "            nn.Conv2d(ndf * 8, nc, 3, 1, 1, bias=False), # (3, 5), stride=(2, 1), padding=(4, 2), dilation=(3, 1)\n",
    "            nn.Sigmoid()\n",
    "\n",
    "        )\n",
    "\n",
    "    def forward(self, input):\n",
    "        # x = self.main(input)\n",
    "        # x = torch.max_pool3d(x, kernel_size=1)\n",
    "        return self.main(input) # torch.sigmoid(x)\n",
    "\n",
    "    def evaluate(self, input):\n",
    "        return self.main(input)"
   ]
  },
  {
   "cell_type": "code",
   "execution_count": 20,
   "metadata": {},
   "outputs": [],
   "source": [
    "class Discriminator(nn.Module):\n",
    "    def __init__(self, ngpu):\n",
    "        super(Discriminator, self).__init__()\n",
    "        self.ngpu = ngpu\n",
    "        self.main = nn.Sequential(\n",
    "            # input is (nc) x 64 x 64\n",
    "            # nn.Linear(128,64),\n",
    "            nn.Conv2d(nc, ndf, 4, 2, 1, bias=False),\n",
    "            nn.LeakyReLU(0.2, inplace=True),\n",
    "            # state size. (ndf) x 32 x 32\n",
    "            nn.Conv2d(ndf, ndf * 2, 4, 2, 1, bias=False),\n",
    "            nn.BatchNorm2d(ndf * 2),\n",
    "            nn.LeakyReLU(0.2, inplace=True),\n",
    "            # state size. (ndf*2) x 16 x 16\n",
    "            nn.Conv2d(ndf * 2, ndf * 4, 4, 2, 1, bias=False),\n",
    "            nn.BatchNorm2d(ndf * 4),\n",
    "            nn.LeakyReLU(0.2, inplace=True),\n",
    "            # state size. (ndf*4) x 8 x 8\n",
    "            nn.Conv2d(ndf * 4, ndf * 8, 4, 2, 1, bias=False),\n",
    "            nn.BatchNorm2d(ndf * 8),\n",
    "            nn.LeakyReLU(0.2, inplace=True),\n",
    "            # state size. (ndf*8) x 4 x 4\n",
    "            nn.Conv2d(ndf * 8, 1, 4, 1, 0, bias=False),\n",
    "            nn.Sigmoid()\n",
    "        )\n",
    "\n",
    "    def forward(self, input):\n",
    "        return self.main(input)"
   ]
  },
  {
   "cell_type": "code",
   "execution_count": 21,
   "metadata": {},
   "outputs": [],
   "source": [
    "# custom weights initialization called on netG and netD\n",
    "def weights_init(m):\n",
    "    classname = m.__class__.__name__\n",
    "    if classname.find('Conv') != -1:\n",
    "        nn.init.normal_(m.weight.data, 0.0, 0.02)\n",
    "    elif classname.find('BatchNorm') != -1:\n",
    "        nn.init.normal_(m.weight.data, 1.0, 0.02)\n",
    "        nn.init.constant_(m.bias.data, 0)"
   ]
  },
  {
   "cell_type": "code",
   "execution_count": 22,
   "metadata": {},
   "outputs": [],
   "source": [
    "# Number of workers for dataloader\n",
    "workers = 2\n",
    "# Batch size during training\n",
    "batch_size = 64\n",
    "# Spatial size of training images. All images will be resized to this\n",
    "#   size using a transformer.\n",
    "image_size = 64\n",
    "# Number of channels in the training images. For color images this is 3\n",
    "nc = 3\n",
    "# Size of z latent vector (i.e. size of generator input)\n",
    "nz = 64**2 # 100\n",
    "# Size of feature maps in generator\n",
    "ngf = 64\n",
    "# Size of feature maps in discriminator\n",
    "ndf = 64\n",
    "# Number of training epochs\n",
    "num_epochs = 50 # 100\n",
    "# Learning rate for optimizers\n",
    "lr = 0.0002\n",
    "# Beta1 hyperparam for Adam optimizers\n",
    "beta1 = 0.5\n",
    "# Number of GPUs available. Use 0 for CPU mode.\n",
    "ngpu = 4\n",
    "\n",
    "# Decide which device we want to run on\n",
    "device = torch.device(\"cuda:0\" if (torch.cuda.is_available() and ngpu > 0) else \"cpu\")\n",
    "# print(device.type)"
   ]
  },
  {
   "cell_type": "code",
   "execution_count": 23,
   "metadata": {},
   "outputs": [],
   "source": [
    "# Create the generator\n",
    "netG = Generator(ngpu).to(device)\n",
    "\n",
    "# Handle multi-gpu if desired\n",
    "if (device.type == 'cuda') and (ngpu > 1):\n",
    "    netG = nn.DataParallel(netG, list(range(ngpu)))\n",
    "\n",
    "# second network\n",
    "netG2 = Generator(ngpu).to(device)\n",
    "\n",
    "# Handle multi-gpu if desired\n",
    "if (device.type == 'cuda') and (ngpu > 1):\n",
    "    netG2 = nn.DataParallel(netG2, list(range(ngpu)))\n",
    "\n",
    "\n",
    "# Create the Discriminator\n",
    "netD = Discriminator(ngpu).to(device)\n",
    "\n",
    "# Handle multi-gpu if desired\n",
    "if (device.type == 'cuda') and (ngpu > 1):\n",
    "    netD = nn.DataParallel(netD, list(range(ngpu)))\n",
    "\n"
   ]
  },
  {
   "cell_type": "code",
   "execution_count": 24,
   "metadata": {},
   "outputs": [
    {
     "name": "stdout",
     "output_type": "stream",
     "text": [
      "Starting Training Loop...\n",
      "[0/50][0/782]\tLoss_D: 1.7800\tLoss_G: 0.2813\tD(x): 0.3439\tD(G(z)): 0.4282 / 0.5191\n",
      "[0/50][50/782]\tLoss_D: 0.0081\tLoss_G: 0.2204\tD(x): 0.9971\tD(G(z)): 0.0051 / 0.0041\n",
      "[0/50][100/782]\tLoss_D: 0.0056\tLoss_G: 0.1863\tD(x): 0.9947\tD(G(z)): 0.0002 / 0.0002\n",
      "[0/50][150/782]\tLoss_D: 0.0031\tLoss_G: 0.1783\tD(x): 0.9970\tD(G(z)): 0.0001 / 0.0001\n",
      "[0/50][200/782]\tLoss_D: 0.0001\tLoss_G: 0.1881\tD(x): 0.9999\tD(G(z)): 0.0000 / 0.0000\n",
      "[0/50][250/782]\tLoss_D: 0.0004\tLoss_G: 0.2253\tD(x): 1.0000\tD(G(z)): 0.0003 / 0.0003\n",
      "[0/50][300/782]\tLoss_D: 0.0006\tLoss_G: 0.1955\tD(x): 0.9994\tD(G(z)): 0.0000 / 0.0000\n",
      "[0/50][350/782]\tLoss_D: 0.0056\tLoss_G: 0.1968\tD(x): 1.0000\tD(G(z)): 0.0055 / 0.0018\n",
      "[0/50][400/782]\tLoss_D: 0.0000\tLoss_G: 0.1892\tD(x): 1.0000\tD(G(z)): 0.0000 / 0.0000\n",
      "[0/50][450/782]\tLoss_D: 0.0000\tLoss_G: 0.1948\tD(x): 1.0000\tD(G(z)): 0.0000 / 0.0000\n",
      "[0/50][500/782]\tLoss_D: 0.0001\tLoss_G: 0.1893\tD(x): 0.9999\tD(G(z)): 0.0000 / 0.0000\n",
      "[0/50][550/782]\tLoss_D: 0.0000\tLoss_G: 0.1978\tD(x): 1.0000\tD(G(z)): 0.0000 / 0.0000\n",
      "[0/50][600/782]\tLoss_D: 0.0000\tLoss_G: 0.2235\tD(x): 1.0000\tD(G(z)): 0.0000 / 0.0000\n",
      "[0/50][650/782]\tLoss_D: 0.0001\tLoss_G: 0.1983\tD(x): 1.0000\tD(G(z)): 0.0001 / 0.0001\n",
      "[0/50][700/782]\tLoss_D: 0.0065\tLoss_G: 0.1800\tD(x): 0.9942\tD(G(z)): 0.0000 / 0.0000\n",
      "[0/50][750/782]\tLoss_D: 0.0001\tLoss_G: 0.1934\tD(x): 1.0000\tD(G(z)): 0.0001 / 0.0001\n",
      "[1/50][0/782]\tLoss_D: 0.0000\tLoss_G: 0.2047\tD(x): 1.0000\tD(G(z)): 0.0000 / 0.0000\n",
      "[1/50][50/782]\tLoss_D: 0.0000\tLoss_G: 0.2039\tD(x): 1.0000\tD(G(z)): 0.0000 / 0.0000\n",
      "[1/50][100/782]\tLoss_D: 0.0000\tLoss_G: 0.1804\tD(x): 1.0000\tD(G(z)): 0.0000 / 0.0000\n",
      "[1/50][150/782]\tLoss_D: 0.0000\tLoss_G: 0.1747\tD(x): 1.0000\tD(G(z)): 0.0000 / 0.0000\n",
      "[1/50][200/782]\tLoss_D: 0.0000\tLoss_G: 0.1852\tD(x): 1.0000\tD(G(z)): 0.0000 / 0.0000\n",
      "[1/50][250/782]\tLoss_D: 0.0002\tLoss_G: 0.2212\tD(x): 1.0000\tD(G(z)): 0.0002 / 0.0002\n",
      "[1/50][300/782]\tLoss_D: 0.0000\tLoss_G: 0.1932\tD(x): 1.0000\tD(G(z)): 0.0000 / 0.0000\n",
      "[1/50][350/782]\tLoss_D: 0.0000\tLoss_G: 0.1966\tD(x): 1.0000\tD(G(z)): 0.0000 / 0.0000\n",
      "[1/50][400/782]\tLoss_D: 0.0000\tLoss_G: 0.1888\tD(x): 1.0000\tD(G(z)): 0.0000 / 0.0000\n",
      "[1/50][450/782]\tLoss_D: 0.0000\tLoss_G: 0.1931\tD(x): 1.0000\tD(G(z)): 0.0000 / 0.0000\n",
      "[1/50][500/782]\tLoss_D: 0.0000\tLoss_G: 0.1891\tD(x): 1.0000\tD(G(z)): 0.0000 / 0.0000\n",
      "[1/50][550/782]\tLoss_D: 0.0000\tLoss_G: 0.1962\tD(x): 1.0000\tD(G(z)): 0.0000 / 0.0000\n",
      "[1/50][600/782]\tLoss_D: 0.0000\tLoss_G: 0.2232\tD(x): 1.0000\tD(G(z)): 0.0000 / 0.0000\n",
      "[1/50][650/782]\tLoss_D: 0.0000\tLoss_G: 0.1975\tD(x): 1.0000\tD(G(z)): 0.0000 / 0.0000\n",
      "[1/50][700/782]\tLoss_D: 0.0002\tLoss_G: 0.1789\tD(x): 0.9998\tD(G(z)): 0.0000 / 0.0000\n",
      "[1/50][750/782]\tLoss_D: 0.0000\tLoss_G: 0.1943\tD(x): 1.0000\tD(G(z)): 0.0000 / 0.0000\n",
      "[2/50][0/782]\tLoss_D: 0.0000\tLoss_G: 0.2049\tD(x): 1.0000\tD(G(z)): 0.0000 / 0.0000\n",
      "[2/50][50/782]\tLoss_D: 0.0000\tLoss_G: 0.2029\tD(x): 1.0000\tD(G(z)): 0.0000 / 0.0000\n",
      "[2/50][100/782]\tLoss_D: 0.0000\tLoss_G: 0.1790\tD(x): 1.0000\tD(G(z)): 0.0000 / 0.0000\n",
      "[2/50][150/782]\tLoss_D: 0.0000\tLoss_G: 0.1741\tD(x): 1.0000\tD(G(z)): 0.0000 / 0.0000\n",
      "[2/50][200/782]\tLoss_D: 0.0000\tLoss_G: 0.1849\tD(x): 1.0000\tD(G(z)): 0.0000 / 0.0000\n",
      "[2/50][250/782]\tLoss_D: 0.0000\tLoss_G: 0.2177\tD(x): 1.0000\tD(G(z)): 0.0000 / 0.0000\n",
      "[2/50][300/782]\tLoss_D: 0.0000\tLoss_G: 0.1930\tD(x): 1.0000\tD(G(z)): 0.0000 / 0.0000\n",
      "[2/50][350/782]\tLoss_D: 0.0000\tLoss_G: 0.1963\tD(x): 1.0000\tD(G(z)): 0.0000 / 0.0000\n",
      "[2/50][400/782]\tLoss_D: 0.0000\tLoss_G: 0.1885\tD(x): 1.0000\tD(G(z)): 0.0000 / 0.0000\n",
      "[2/50][450/782]\tLoss_D: 0.0000\tLoss_G: 0.1928\tD(x): 1.0000\tD(G(z)): 0.0000 / 0.0000\n",
      "[2/50][500/782]\tLoss_D: 0.0000\tLoss_G: 0.1894\tD(x): 1.0000\tD(G(z)): 0.0000 / 0.0000\n",
      "[2/50][550/782]\tLoss_D: 0.0000\tLoss_G: 0.1956\tD(x): 1.0000\tD(G(z)): 0.0000 / 0.0000\n",
      "[2/50][600/782]\tLoss_D: 0.0000\tLoss_G: 0.2232\tD(x): 1.0000\tD(G(z)): 0.0000 / 0.0000\n",
      "[2/50][650/782]\tLoss_D: 0.0000\tLoss_G: 0.1971\tD(x): 1.0000\tD(G(z)): 0.0000 / 0.0000\n",
      "[2/50][700/782]\tLoss_D: 0.0000\tLoss_G: 0.1789\tD(x): 1.0000\tD(G(z)): 0.0000 / 0.0000\n",
      "[2/50][750/782]\tLoss_D: 0.0000\tLoss_G: 0.1948\tD(x): 1.0000\tD(G(z)): 0.0000 / 0.0000\n",
      "[3/50][0/782]\tLoss_D: 0.0000\tLoss_G: 0.2038\tD(x): 1.0000\tD(G(z)): 0.0000 / 0.0000\n",
      "[3/50][50/782]\tLoss_D: 0.0000\tLoss_G: 0.2025\tD(x): 1.0000\tD(G(z)): 0.0000 / 0.0000\n",
      "[3/50][100/782]\tLoss_D: 0.0000\tLoss_G: 0.1787\tD(x): 1.0000\tD(G(z)): 0.0000 / 0.0000\n",
      "[3/50][150/782]\tLoss_D: 0.0000\tLoss_G: 0.1740\tD(x): 1.0000\tD(G(z)): 0.0000 / 0.0000\n",
      "[3/50][200/782]\tLoss_D: 0.0000\tLoss_G: 0.1848\tD(x): 1.0000\tD(G(z)): 0.0000 / 0.0000\n",
      "[3/50][250/782]\tLoss_D: 0.0000\tLoss_G: 0.2171\tD(x): 1.0000\tD(G(z)): 0.0000 / 0.0000\n",
      "[3/50][300/782]\tLoss_D: 0.0000\tLoss_G: 0.1930\tD(x): 1.0000\tD(G(z)): 0.0000 / 0.0000\n",
      "[3/50][350/782]\tLoss_D: 0.0000\tLoss_G: 0.1963\tD(x): 1.0000\tD(G(z)): 0.0000 / 0.0000\n",
      "[3/50][400/782]\tLoss_D: 0.0000\tLoss_G: 0.1882\tD(x): 1.0000\tD(G(z)): 0.0000 / 0.0000\n",
      "[3/50][450/782]\tLoss_D: 0.0000\tLoss_G: 0.1926\tD(x): 1.0000\tD(G(z)): 0.0000 / 0.0000\n",
      "[3/50][500/782]\tLoss_D: 0.0000\tLoss_G: 0.1890\tD(x): 1.0000\tD(G(z)): 0.0000 / 0.0000\n",
      "[3/50][550/782]\tLoss_D: 0.0000\tLoss_G: 0.1958\tD(x): 1.0000\tD(G(z)): 0.0000 / 0.0000\n",
      "[3/50][600/782]\tLoss_D: 0.0000\tLoss_G: 0.2231\tD(x): 1.0000\tD(G(z)): 0.0000 / 0.0000\n",
      "[3/50][650/782]\tLoss_D: 0.0000\tLoss_G: 0.1967\tD(x): 1.0000\tD(G(z)): 0.0000 / 0.0000\n",
      "[3/50][700/782]\tLoss_D: 0.0000\tLoss_G: 0.1783\tD(x): 1.0000\tD(G(z)): 0.0000 / 0.0000\n",
      "[3/50][750/782]\tLoss_D: 0.0000\tLoss_G: 0.1949\tD(x): 1.0000\tD(G(z)): 0.0000 / 0.0000\n",
      "[4/50][0/782]\tLoss_D: 0.0000\tLoss_G: 0.2027\tD(x): 1.0000\tD(G(z)): 0.0000 / 0.0000\n",
      "[4/50][50/782]\tLoss_D: 0.0000\tLoss_G: 0.2024\tD(x): 1.0000\tD(G(z)): 0.0000 / 0.0000\n",
      "[4/50][100/782]\tLoss_D: 0.0000\tLoss_G: 0.1788\tD(x): 1.0000\tD(G(z)): 0.0000 / 0.0000\n",
      "[4/50][150/782]\tLoss_D: 0.0000\tLoss_G: 0.1742\tD(x): 1.0000\tD(G(z)): 0.0000 / 0.0000\n",
      "[4/50][200/782]\tLoss_D: 0.0000\tLoss_G: 0.1846\tD(x): 1.0000\tD(G(z)): 0.0000 / 0.0000\n",
      "[4/50][250/782]\tLoss_D: 0.0000\tLoss_G: 0.2170\tD(x): 1.0000\tD(G(z)): 0.0000 / 0.0000\n",
      "[4/50][300/782]\tLoss_D: 0.0000\tLoss_G: 0.1929\tD(x): 1.0000\tD(G(z)): 0.0000 / 0.0000\n",
      "[4/50][350/782]\tLoss_D: 0.0000\tLoss_G: 0.1965\tD(x): 1.0000\tD(G(z)): 0.0000 / 0.0000\n",
      "[4/50][400/782]\tLoss_D: 0.0000\tLoss_G: 0.1880\tD(x): 1.0000\tD(G(z)): 0.0000 / 0.0000\n",
      "[4/50][450/782]\tLoss_D: 0.0000\tLoss_G: 0.1927\tD(x): 1.0000\tD(G(z)): 0.0000 / 0.0000\n",
      "[4/50][500/782]\tLoss_D: 0.0000\tLoss_G: 0.1888\tD(x): 1.0000\tD(G(z)): 0.0000 / 0.0000\n",
      "[4/50][550/782]\tLoss_D: 0.0000\tLoss_G: 0.1946\tD(x): 1.0000\tD(G(z)): 0.0000 / 0.0000\n",
      "[4/50][600/782]\tLoss_D: 0.0000\tLoss_G: 0.2231\tD(x): 1.0000\tD(G(z)): 0.0000 / 0.0000\n",
      "[4/50][650/782]\tLoss_D: 0.0000\tLoss_G: 0.1965\tD(x): 1.0000\tD(G(z)): 0.0000 / 0.0000\n",
      "[4/50][700/782]\tLoss_D: 0.0000\tLoss_G: 0.1779\tD(x): 1.0000\tD(G(z)): 0.0000 / 0.0000\n",
      "[4/50][750/782]\tLoss_D: 0.0000\tLoss_G: 0.1954\tD(x): 1.0000\tD(G(z)): 0.0000 / 0.0000\n",
      "[5/50][0/782]\tLoss_D: 0.0000\tLoss_G: 0.2030\tD(x): 1.0000\tD(G(z)): 0.0000 / 0.0000\n",
      "[5/50][50/782]\tLoss_D: 0.0000\tLoss_G: 0.2026\tD(x): 1.0000\tD(G(z)): 0.0000 / 0.0000\n",
      "[5/50][100/782]\tLoss_D: 0.0000\tLoss_G: 0.1786\tD(x): 1.0000\tD(G(z)): 0.0000 / 0.0000\n",
      "[5/50][150/782]\tLoss_D: 0.0000\tLoss_G: 0.1739\tD(x): 1.0000\tD(G(z)): 0.0000 / 0.0000\n",
      "[5/50][200/782]\tLoss_D: 0.0000\tLoss_G: 0.1843\tD(x): 1.0000\tD(G(z)): 0.0000 / 0.0000\n",
      "[5/50][250/782]\tLoss_D: 0.0000\tLoss_G: 0.2171\tD(x): 1.0000\tD(G(z)): 0.0000 / 0.0000\n",
      "[5/50][300/782]\tLoss_D: 0.0000\tLoss_G: 0.1928\tD(x): 1.0000\tD(G(z)): 0.0000 / 0.0000\n",
      "[5/50][350/782]\tLoss_D: 0.0000\tLoss_G: 0.1960\tD(x): 1.0000\tD(G(z)): 0.0000 / 0.0000\n",
      "[5/50][400/782]\tLoss_D: 0.0000\tLoss_G: 0.1878\tD(x): 1.0000\tD(G(z)): 0.0000 / 0.0000\n",
      "[5/50][450/782]\tLoss_D: 0.0000\tLoss_G: 0.1923\tD(x): 1.0000\tD(G(z)): 0.0000 / 0.0000\n",
      "[5/50][500/782]\tLoss_D: 0.0000\tLoss_G: 0.1886\tD(x): 1.0000\tD(G(z)): 0.0000 / 0.0000\n",
      "[5/50][550/782]\tLoss_D: 0.0000\tLoss_G: 0.1944\tD(x): 1.0000\tD(G(z)): 0.0000 / 0.0000\n",
      "[5/50][600/782]\tLoss_D: 0.0000\tLoss_G: 0.2225\tD(x): 1.0000\tD(G(z)): 0.0000 / 0.0000\n",
      "[5/50][650/782]\tLoss_D: 0.0000\tLoss_G: 0.1959\tD(x): 1.0000\tD(G(z)): 0.0000 / 0.0000\n",
      "[5/50][700/782]\tLoss_D: 0.0000\tLoss_G: 0.1780\tD(x): 1.0000\tD(G(z)): 0.0000 / 0.0000\n",
      "[5/50][750/782]\tLoss_D: 0.0000\tLoss_G: 0.1941\tD(x): 1.0000\tD(G(z)): 0.0000 / 0.0000\n",
      "[6/50][0/782]\tLoss_D: 0.0000\tLoss_G: 0.2026\tD(x): 1.0000\tD(G(z)): 0.0000 / 0.0000\n",
      "[6/50][50/782]\tLoss_D: 0.0000\tLoss_G: 0.2019\tD(x): 1.0000\tD(G(z)): 0.0000 / 0.0000\n",
      "[6/50][100/782]\tLoss_D: 0.0000\tLoss_G: 0.1779\tD(x): 1.0000\tD(G(z)): 0.0000 / 0.0000\n",
      "[6/50][150/782]\tLoss_D: 0.0000\tLoss_G: 0.1746\tD(x): 1.0000\tD(G(z)): 0.0000 / 0.0000\n",
      "[6/50][200/782]\tLoss_D: 0.0000\tLoss_G: 0.1847\tD(x): 1.0000\tD(G(z)): 0.0000 / 0.0000\n",
      "[6/50][250/782]\tLoss_D: 0.0000\tLoss_G: 0.2181\tD(x): 1.0000\tD(G(z)): 0.0000 / 0.0000\n",
      "[6/50][300/782]\tLoss_D: 0.0000\tLoss_G: 0.1926\tD(x): 1.0000\tD(G(z)): 0.0000 / 0.0000\n",
      "[6/50][350/782]\tLoss_D: 0.0000\tLoss_G: 0.1966\tD(x): 1.0000\tD(G(z)): 0.0000 / 0.0000\n",
      "[6/50][400/782]\tLoss_D: 0.0000\tLoss_G: 0.1874\tD(x): 1.0000\tD(G(z)): 0.0000 / 0.0000\n",
      "[6/50][450/782]\tLoss_D: 0.0000\tLoss_G: 0.1922\tD(x): 1.0000\tD(G(z)): 0.0000 / 0.0000\n",
      "[6/50][500/782]\tLoss_D: 0.0000\tLoss_G: 0.1881\tD(x): 1.0000\tD(G(z)): 0.0000 / 0.0000\n",
      "[6/50][550/782]\tLoss_D: 0.0000\tLoss_G: 0.1941\tD(x): 1.0000\tD(G(z)): 0.0000 / 0.0000\n",
      "[6/50][600/782]\tLoss_D: 0.0000\tLoss_G: 0.2220\tD(x): 1.0000\tD(G(z)): 0.0000 / 0.0000\n",
      "[6/50][650/782]\tLoss_D: 0.0000\tLoss_G: 0.1955\tD(x): 1.0000\tD(G(z)): 0.0000 / 0.0000\n",
      "[6/50][700/782]\tLoss_D: 0.0000\tLoss_G: 0.1779\tD(x): 1.0000\tD(G(z)): 0.0000 / 0.0000\n",
      "[6/50][750/782]\tLoss_D: 0.0000\tLoss_G: 0.1941\tD(x): 1.0000\tD(G(z)): 0.0000 / 0.0000\n",
      "[7/50][0/782]\tLoss_D: 0.0000\tLoss_G: 0.2003\tD(x): 1.0000\tD(G(z)): 0.0000 / 0.0000\n",
      "[7/50][50/782]\tLoss_D: 0.0000\tLoss_G: 0.2022\tD(x): 1.0000\tD(G(z)): 0.0000 / 0.0000\n",
      "[7/50][100/782]\tLoss_D: 0.0000\tLoss_G: 0.1775\tD(x): 1.0000\tD(G(z)): 0.0000 / 0.0000\n",
      "[7/50][150/782]\tLoss_D: 0.0000\tLoss_G: 0.1729\tD(x): 1.0000\tD(G(z)): 0.0000 / 0.0000\n",
      "[7/50][200/782]\tLoss_D: 0.0000\tLoss_G: 0.1836\tD(x): 1.0000\tD(G(z)): 0.0000 / 0.0000\n",
      "[7/50][250/782]\tLoss_D: 0.0000\tLoss_G: 0.2155\tD(x): 1.0000\tD(G(z)): 0.0000 / 0.0000\n",
      "[7/50][300/782]\tLoss_D: 0.0000\tLoss_G: 0.1925\tD(x): 1.0000\tD(G(z)): 0.0000 / 0.0000\n",
      "[7/50][350/782]\tLoss_D: 0.0000\tLoss_G: 0.1957\tD(x): 1.0000\tD(G(z)): 0.0000 / 0.0000\n",
      "[7/50][400/782]\tLoss_D: 0.0000\tLoss_G: 0.1865\tD(x): 1.0000\tD(G(z)): 0.0000 / 0.0000\n",
      "[7/50][450/782]\tLoss_D: 0.0000\tLoss_G: 0.1911\tD(x): 1.0000\tD(G(z)): 0.0000 / 0.0000\n",
      "[7/50][500/782]\tLoss_D: 0.0000\tLoss_G: 0.1878\tD(x): 1.0000\tD(G(z)): 0.0000 / 0.0000\n",
      "[7/50][550/782]\tLoss_D: 0.0000\tLoss_G: 0.1923\tD(x): 1.0000\tD(G(z)): 0.0000 / 0.0000\n",
      "[7/50][600/782]\tLoss_D: 0.0000\tLoss_G: 0.2231\tD(x): 1.0000\tD(G(z)): 0.0000 / 0.0000\n",
      "[7/50][650/782]\tLoss_D: 0.0000\tLoss_G: 0.1921\tD(x): 1.0000\tD(G(z)): 0.0000 / 0.0000\n",
      "[7/50][700/782]\tLoss_D: 0.0000\tLoss_G: 0.1783\tD(x): 1.0000\tD(G(z)): 0.0000 / 0.0000\n",
      "[7/50][750/782]\tLoss_D: 0.0000\tLoss_G: 0.1932\tD(x): 1.0000\tD(G(z)): 0.0000 / 0.0000\n",
      "[8/50][0/782]\tLoss_D: 0.0000\tLoss_G: 0.2012\tD(x): 1.0000\tD(G(z)): 0.0000 / 0.0000\n",
      "[8/50][50/782]\tLoss_D: 0.0000\tLoss_G: 0.2021\tD(x): 1.0000\tD(G(z)): 0.0000 / 0.0000\n",
      "[8/50][100/782]\tLoss_D: 0.0000\tLoss_G: 0.1774\tD(x): 1.0000\tD(G(z)): 0.0000 / 0.0000\n",
      "[8/50][150/782]\tLoss_D: 0.0000\tLoss_G: 0.1728\tD(x): 1.0000\tD(G(z)): 0.0000 / 0.0000\n",
      "[8/50][200/782]\tLoss_D: 0.0000\tLoss_G: 0.1812\tD(x): 1.0000\tD(G(z)): 0.0000 / 0.0000\n",
      "[8/50][250/782]\tLoss_D: 0.0000\tLoss_G: 0.2141\tD(x): 1.0000\tD(G(z)): 0.0000 / 0.0000\n",
      "[8/50][300/782]\tLoss_D: 0.0000\tLoss_G: 0.1925\tD(x): 1.0000\tD(G(z)): 0.0000 / 0.0000\n",
      "[8/50][350/782]\tLoss_D: 0.0000\tLoss_G: 0.1956\tD(x): 1.0000\tD(G(z)): 0.0000 / 0.0000\n",
      "[8/50][400/782]\tLoss_D: 0.0000\tLoss_G: 0.1849\tD(x): 1.0000\tD(G(z)): 0.0000 / 0.0000\n",
      "[8/50][450/782]\tLoss_D: 0.0000\tLoss_G: 0.1873\tD(x): 1.0000\tD(G(z)): 0.0000 / 0.0000\n",
      "[8/50][500/782]\tLoss_D: 0.0000\tLoss_G: 0.1858\tD(x): 1.0000\tD(G(z)): 0.0000 / 0.0000\n",
      "[8/50][550/782]\tLoss_D: 0.0000\tLoss_G: 0.1892\tD(x): 1.0000\tD(G(z)): 0.0000 / 0.0000\n",
      "[8/50][600/782]\tLoss_D: 0.0000\tLoss_G: 0.2194\tD(x): 1.0000\tD(G(z)): 0.0000 / 0.0000\n",
      "[8/50][650/782]\tLoss_D: 0.0000\tLoss_G: 0.1875\tD(x): 1.0000\tD(G(z)): 0.0000 / 0.0000\n",
      "[8/50][700/782]\tLoss_D: 0.0000\tLoss_G: 0.1769\tD(x): 1.0000\tD(G(z)): 0.0000 / 0.0000\n",
      "[8/50][750/782]\tLoss_D: 0.0000\tLoss_G: 0.1906\tD(x): 1.0000\tD(G(z)): 0.0000 / 0.0000\n",
      "[9/50][0/782]\tLoss_D: 0.0000\tLoss_G: 0.1964\tD(x): 1.0000\tD(G(z)): 0.0000 / 0.0000\n",
      "[9/50][50/782]\tLoss_D: 0.0000\tLoss_G: 0.2021\tD(x): 1.0000\tD(G(z)): 0.0000 / 0.0000\n",
      "[9/50][100/782]\tLoss_D: 0.0000\tLoss_G: 0.1770\tD(x): 1.0000\tD(G(z)): 0.0000 / 0.0000\n",
      "[9/50][150/782]\tLoss_D: 0.0000\tLoss_G: 0.1706\tD(x): 1.0000\tD(G(z)): 0.0000 / 0.0000\n",
      "[9/50][200/782]\tLoss_D: 0.0000\tLoss_G: 0.1795\tD(x): 1.0000\tD(G(z)): 0.0000 / 0.0000\n",
      "[9/50][250/782]\tLoss_D: 0.0000\tLoss_G: 0.2162\tD(x): 1.0000\tD(G(z)): 0.0000 / 0.0000\n",
      "[9/50][300/782]\tLoss_D: 0.0000\tLoss_G: 0.1904\tD(x): 1.0000\tD(G(z)): 0.0000 / 0.0000\n",
      "[9/50][350/782]\tLoss_D: 0.0000\tLoss_G: 0.1949\tD(x): 1.0000\tD(G(z)): 0.0000 / 0.0000\n",
      "[9/50][400/782]\tLoss_D: 0.0000\tLoss_G: 0.1824\tD(x): 1.0000\tD(G(z)): 0.0000 / 0.0000\n",
      "[9/50][450/782]\tLoss_D: 0.0000\tLoss_G: 0.1848\tD(x): 1.0000\tD(G(z)): 0.0000 / 0.0000\n",
      "[9/50][500/782]\tLoss_D: 0.0000\tLoss_G: 0.1844\tD(x): 1.0000\tD(G(z)): 0.0000 / 0.0000\n",
      "[9/50][550/782]\tLoss_D: 0.0000\tLoss_G: 0.1884\tD(x): 1.0000\tD(G(z)): 0.0000 / 0.0000\n",
      "[9/50][600/782]\tLoss_D: 0.0000\tLoss_G: 0.2174\tD(x): 1.0000\tD(G(z)): 0.0000 / 0.0000\n",
      "[9/50][650/782]\tLoss_D: 0.0000\tLoss_G: 0.1862\tD(x): 1.0000\tD(G(z)): 0.0000 / 0.0000\n",
      "[9/50][700/782]\tLoss_D: 0.0000\tLoss_G: 0.1769\tD(x): 1.0000\tD(G(z)): 0.0000 / 0.0000\n",
      "[9/50][750/782]\tLoss_D: 0.0000\tLoss_G: 0.1866\tD(x): 1.0000\tD(G(z)): 0.0000 / 0.0000\n",
      "[10/50][0/782]\tLoss_D: 0.0000\tLoss_G: 0.1949\tD(x): 1.0000\tD(G(z)): 0.0000 / 0.0000\n",
      "[10/50][50/782]\tLoss_D: 0.0000\tLoss_G: 0.2020\tD(x): 1.0000\tD(G(z)): 0.0000 / 0.0000\n",
      "[10/50][100/782]\tLoss_D: 0.0000\tLoss_G: 0.1754\tD(x): 1.0000\tD(G(z)): 0.0000 / 0.0000\n",
      "[10/50][150/782]\tLoss_D: 0.0000\tLoss_G: 0.1698\tD(x): 1.0000\tD(G(z)): 0.0000 / 0.0000\n",
      "[10/50][200/782]\tLoss_D: 0.0000\tLoss_G: 0.1775\tD(x): 1.0000\tD(G(z)): 0.0000 / 0.0000\n",
      "[10/50][250/782]\tLoss_D: 0.8388\tLoss_G: 0.2308\tD(x): 0.6674\tD(G(z)): 0.0286 / 0.2597\n",
      "[10/50][300/782]\tLoss_D: 0.0003\tLoss_G: 0.1989\tD(x): 0.9999\tD(G(z)): 0.0002 / 0.0002\n",
      "[10/50][350/782]\tLoss_D: 0.0001\tLoss_G: 0.2054\tD(x): 1.0000\tD(G(z)): 0.0001 / 0.0001\n",
      "[10/50][400/782]\tLoss_D: 0.0069\tLoss_G: 0.1907\tD(x): 1.0000\tD(G(z)): 0.0068 / 0.0051\n",
      "[10/50][450/782]\tLoss_D: 0.0001\tLoss_G: 0.1952\tD(x): 1.0000\tD(G(z)): 0.0001 / 0.0001\n",
      "[10/50][500/782]\tLoss_D: 0.0002\tLoss_G: 0.1888\tD(x): 1.0000\tD(G(z)): 0.0002 / 0.0002\n",
      "[10/50][550/782]\tLoss_D: 0.0006\tLoss_G: 0.1958\tD(x): 1.0000\tD(G(z)): 0.0006 / 0.0006\n",
      "[10/50][600/782]\tLoss_D: 0.0001\tLoss_G: 0.2234\tD(x): 1.0000\tD(G(z)): 0.0001 / 0.0001\n",
      "[10/50][650/782]\tLoss_D: 0.0003\tLoss_G: 0.1973\tD(x): 0.9998\tD(G(z)): 0.0001 / 0.0001\n",
      "[10/50][700/782]\tLoss_D: 0.0005\tLoss_G: 0.1786\tD(x): 0.9996\tD(G(z)): 0.0000 / 0.0000\n",
      "[10/50][750/782]\tLoss_D: 0.0002\tLoss_G: 0.1939\tD(x): 1.0000\tD(G(z)): 0.0002 / 0.0002\n",
      "[11/50][0/782]\tLoss_D: 0.0001\tLoss_G: 0.2015\tD(x): 1.0000\tD(G(z)): 0.0001 / 0.0001\n",
      "[11/50][50/782]\tLoss_D: 0.0000\tLoss_G: 0.2035\tD(x): 1.0000\tD(G(z)): 0.0000 / 0.0000\n",
      "[11/50][100/782]\tLoss_D: 0.0000\tLoss_G: 0.1807\tD(x): 1.0000\tD(G(z)): 0.0000 / 0.0000\n",
      "[11/50][150/782]\tLoss_D: 0.0001\tLoss_G: 0.1745\tD(x): 1.0000\tD(G(z)): 0.0000 / 0.0000\n",
      "[11/50][200/782]\tLoss_D: 0.0000\tLoss_G: 0.1840\tD(x): 1.0000\tD(G(z)): 0.0000 / 0.0000\n",
      "[11/50][250/782]\tLoss_D: 0.0000\tLoss_G: 0.2144\tD(x): 1.0000\tD(G(z)): 0.0000 / 0.0000\n",
      "[11/50][300/782]\tLoss_D: 0.0000\tLoss_G: 0.1934\tD(x): 1.0000\tD(G(z)): 0.0000 / 0.0000\n",
      "[11/50][350/782]\tLoss_D: 0.0000\tLoss_G: 0.1978\tD(x): 1.0000\tD(G(z)): 0.0000 / 0.0000\n",
      "[11/50][400/782]\tLoss_D: 0.0004\tLoss_G: 0.1890\tD(x): 1.0000\tD(G(z)): 0.0004 / 0.0004\n",
      "[11/50][450/782]\tLoss_D: 0.0000\tLoss_G: 0.1930\tD(x): 1.0000\tD(G(z)): 0.0000 / 0.0000\n",
      "[11/50][500/782]\tLoss_D: 0.0000\tLoss_G: 0.1886\tD(x): 1.0000\tD(G(z)): 0.0000 / 0.0000\n",
      "[11/50][550/782]\tLoss_D: 0.0000\tLoss_G: 0.1949\tD(x): 1.0000\tD(G(z)): 0.0000 / 0.0000\n",
      "[11/50][600/782]\tLoss_D: 0.0000\tLoss_G: 0.2226\tD(x): 1.0000\tD(G(z)): 0.0000 / 0.0000\n",
      "[11/50][650/782]\tLoss_D: 0.0000\tLoss_G: 0.1953\tD(x): 1.0000\tD(G(z)): 0.0000 / 0.0000\n",
      "[11/50][700/782]\tLoss_D: 0.0001\tLoss_G: 0.1783\tD(x): 0.9999\tD(G(z)): 0.0000 / 0.0000\n",
      "[11/50][750/782]\tLoss_D: 0.0000\tLoss_G: 0.1914\tD(x): 1.0000\tD(G(z)): 0.0000 / 0.0000\n",
      "[12/50][0/782]\tLoss_D: 0.0000\tLoss_G: 0.2013\tD(x): 1.0000\tD(G(z)): 0.0000 / 0.0000\n",
      "[12/50][50/782]\tLoss_D: 0.0000\tLoss_G: 0.2017\tD(x): 1.0000\tD(G(z)): 0.0000 / 0.0000\n",
      "[12/50][100/782]\tLoss_D: 0.0000\tLoss_G: 0.1771\tD(x): 1.0000\tD(G(z)): 0.0000 / 0.0000\n",
      "[12/50][150/782]\tLoss_D: 0.0001\tLoss_G: 0.1725\tD(x): 1.0000\tD(G(z)): 0.0001 / 0.0001\n",
      "[12/50][200/782]\tLoss_D: 0.0000\tLoss_G: 0.1815\tD(x): 1.0000\tD(G(z)): 0.0000 / 0.0000\n",
      "[12/50][250/782]\tLoss_D: 0.0000\tLoss_G: 0.2137\tD(x): 1.0000\tD(G(z)): 0.0000 / 0.0000\n",
      "[12/50][300/782]\tLoss_D: 0.0000\tLoss_G: 0.1906\tD(x): 1.0000\tD(G(z)): 0.0000 / 0.0000\n",
      "[12/50][350/782]\tLoss_D: 0.0000\tLoss_G: 0.1967\tD(x): 1.0000\tD(G(z)): 0.0000 / 0.0000\n",
      "[12/50][400/782]\tLoss_D: 0.0000\tLoss_G: 0.1866\tD(x): 1.0000\tD(G(z)): 0.0000 / 0.0000\n",
      "[12/50][450/782]\tLoss_D: 0.0000\tLoss_G: 0.1898\tD(x): 1.0000\tD(G(z)): 0.0000 / 0.0000\n",
      "[12/50][500/782]\tLoss_D: 0.0000\tLoss_G: 0.1861\tD(x): 1.0000\tD(G(z)): 0.0000 / 0.0000\n",
      "[12/50][550/782]\tLoss_D: 0.0000\tLoss_G: 0.1893\tD(x): 1.0000\tD(G(z)): 0.0000 / 0.0000\n",
      "[12/50][600/782]\tLoss_D: 0.0000\tLoss_G: 0.2183\tD(x): 1.0000\tD(G(z)): 0.0000 / 0.0000\n",
      "[12/50][650/782]\tLoss_D: 0.0000\tLoss_G: 0.1872\tD(x): 1.0000\tD(G(z)): 0.0000 / 0.0000\n",
      "[12/50][700/782]\tLoss_D: 0.0000\tLoss_G: 0.1788\tD(x): 1.0000\tD(G(z)): 0.0000 / 0.0000\n",
      "[12/50][750/782]\tLoss_D: 0.0000\tLoss_G: 0.1872\tD(x): 1.0000\tD(G(z)): 0.0000 / 0.0000\n",
      "[13/50][0/782]\tLoss_D: 0.0000\tLoss_G: 0.1960\tD(x): 1.0000\tD(G(z)): 0.0000 / 0.0000\n",
      "[13/50][50/782]\tLoss_D: 0.0000\tLoss_G: 0.2014\tD(x): 1.0000\tD(G(z)): 0.0000 / 0.0000\n",
      "[13/50][100/782]\tLoss_D: 0.0000\tLoss_G: 0.1769\tD(x): 1.0000\tD(G(z)): 0.0000 / 0.0000\n",
      "[13/50][150/782]\tLoss_D: 0.0000\tLoss_G: 0.1710\tD(x): 1.0000\tD(G(z)): 0.0000 / 0.0000\n",
      "[13/50][200/782]\tLoss_D: 0.0000\tLoss_G: 0.1795\tD(x): 1.0000\tD(G(z)): 0.0000 / 0.0000\n",
      "[13/50][250/782]\tLoss_D: 0.0000\tLoss_G: 0.2212\tD(x): 1.0000\tD(G(z)): 0.0000 / 0.0000\n",
      "[13/50][300/782]\tLoss_D: 0.0000\tLoss_G: 0.1933\tD(x): 1.0000\tD(G(z)): 0.0000 / 0.0000\n",
      "[13/50][350/782]\tLoss_D: 0.0000\tLoss_G: 0.1976\tD(x): 1.0000\tD(G(z)): 0.0000 / 0.0000\n",
      "[13/50][400/782]\tLoss_D: 0.0000\tLoss_G: 0.1891\tD(x): 1.0000\tD(G(z)): 0.0000 / 0.0000\n",
      "[13/50][450/782]\tLoss_D: 0.0000\tLoss_G: 0.1926\tD(x): 1.0000\tD(G(z)): 0.0000 / 0.0000\n",
      "[13/50][500/782]\tLoss_D: 0.0000\tLoss_G: 0.1898\tD(x): 1.0000\tD(G(z)): 0.0000 / 0.0000\n",
      "[13/50][550/782]\tLoss_D: 0.0000\tLoss_G: 0.1943\tD(x): 1.0000\tD(G(z)): 0.0000 / 0.0000\n",
      "[13/50][600/782]\tLoss_D: 0.0000\tLoss_G: 0.2218\tD(x): 1.0000\tD(G(z)): 0.0000 / 0.0000\n",
      "[13/50][650/782]\tLoss_D: 0.0000\tLoss_G: 0.1883\tD(x): 1.0000\tD(G(z)): 0.0000 / 0.0000\n",
      "[13/50][700/782]\tLoss_D: 0.0000\tLoss_G: 0.1788\tD(x): 1.0000\tD(G(z)): 0.0000 / 0.0000\n",
      "[13/50][750/782]\tLoss_D: 0.0000\tLoss_G: 0.1876\tD(x): 1.0000\tD(G(z)): 0.0000 / 0.0000\n",
      "[14/50][0/782]\tLoss_D: 0.0000\tLoss_G: 0.1962\tD(x): 1.0000\tD(G(z)): 0.0000 / 0.0000\n",
      "[14/50][50/782]\tLoss_D: 0.0000\tLoss_G: 0.2019\tD(x): 1.0000\tD(G(z)): 0.0000 / 0.0000\n",
      "[14/50][100/782]\tLoss_D: 0.0000\tLoss_G: 0.1776\tD(x): 1.0000\tD(G(z)): 0.0000 / 0.0000\n",
      "[14/50][150/782]\tLoss_D: 0.0000\tLoss_G: 0.1714\tD(x): 1.0000\tD(G(z)): 0.0000 / 0.0000\n",
      "[14/50][200/782]\tLoss_D: 0.0000\tLoss_G: 0.1796\tD(x): 1.0000\tD(G(z)): 0.0000 / 0.0000\n",
      "[14/50][250/782]\tLoss_D: 0.0000\tLoss_G: 0.2131\tD(x): 1.0000\tD(G(z)): 0.0000 / 0.0000\n",
      "[14/50][300/782]\tLoss_D: 0.0000\tLoss_G: 0.1896\tD(x): 1.0000\tD(G(z)): 0.0000 / 0.0000\n",
      "[14/50][350/782]\tLoss_D: 0.0000\tLoss_G: 0.1942\tD(x): 1.0000\tD(G(z)): 0.0000 / 0.0000\n",
      "[14/50][400/782]\tLoss_D: 0.0000\tLoss_G: 0.1831\tD(x): 1.0000\tD(G(z)): 0.0000 / 0.0000\n",
      "[14/50][450/782]\tLoss_D: 0.0000\tLoss_G: 0.1850\tD(x): 1.0000\tD(G(z)): 0.0000 / 0.0000\n",
      "[14/50][500/782]\tLoss_D: 0.0000\tLoss_G: 0.1845\tD(x): 1.0000\tD(G(z)): 0.0000 / 0.0000\n",
      "[14/50][550/782]\tLoss_D: 0.0000\tLoss_G: 0.1883\tD(x): 1.0000\tD(G(z)): 0.0000 / 0.0000\n",
      "[14/50][600/782]\tLoss_D: 0.0000\tLoss_G: 0.2172\tD(x): 1.0000\tD(G(z)): 0.0000 / 0.0000\n",
      "[14/50][650/782]\tLoss_D: 0.0000\tLoss_G: 0.1862\tD(x): 1.0000\tD(G(z)): 0.0000 / 0.0000\n",
      "[14/50][700/782]\tLoss_D: 0.0000\tLoss_G: 0.1767\tD(x): 1.0000\tD(G(z)): 0.0000 / 0.0000\n",
      "[14/50][750/782]\tLoss_D: 0.0000\tLoss_G: 0.1853\tD(x): 1.0000\tD(G(z)): 0.0000 / 0.0000\n",
      "[15/50][0/782]\tLoss_D: 0.0000\tLoss_G: 0.1954\tD(x): 1.0000\tD(G(z)): 0.0000 / 0.0000\n",
      "[15/50][50/782]\tLoss_D: 0.0000\tLoss_G: 0.2016\tD(x): 1.0000\tD(G(z)): 0.0000 / 0.0000\n",
      "[15/50][100/782]\tLoss_D: 0.0000\tLoss_G: 0.1757\tD(x): 1.0000\tD(G(z)): 0.0000 / 0.0000\n",
      "[15/50][150/782]\tLoss_D: 0.0000\tLoss_G: 0.1699\tD(x): 1.0000\tD(G(z)): 0.0000 / 0.0000\n",
      "[15/50][200/782]\tLoss_D: 0.0000\tLoss_G: 0.1778\tD(x): 1.0000\tD(G(z)): 0.0000 / 0.0000\n",
      "[15/50][250/782]\tLoss_D: 0.0000\tLoss_G: 0.2114\tD(x): 1.0000\tD(G(z)): 0.0000 / 0.0000\n",
      "[15/50][300/782]\tLoss_D: 0.0000\tLoss_G: 0.1890\tD(x): 1.0000\tD(G(z)): 0.0000 / 0.0000\n",
      "[15/50][350/782]\tLoss_D: 0.0000\tLoss_G: 0.1925\tD(x): 1.0000\tD(G(z)): 0.0000 / 0.0000\n",
      "[15/50][400/782]\tLoss_D: 0.0000\tLoss_G: 0.1822\tD(x): 1.0000\tD(G(z)): 0.0000 / 0.0000\n",
      "[15/50][450/782]\tLoss_D: 0.0000\tLoss_G: 0.1918\tD(x): 1.0000\tD(G(z)): 0.0000 / 0.0000\n",
      "[15/50][500/782]\tLoss_D: 0.0000\tLoss_G: 0.1863\tD(x): 1.0000\tD(G(z)): 0.0000 / 0.0000\n",
      "[15/50][550/782]\tLoss_D: 0.0000\tLoss_G: 0.1905\tD(x): 1.0000\tD(G(z)): 0.0000 / 0.0000\n",
      "[15/50][600/782]\tLoss_D: 0.0000\tLoss_G: 0.2177\tD(x): 1.0000\tD(G(z)): 0.0000 / 0.0000\n",
      "[15/50][650/782]\tLoss_D: 0.0000\tLoss_G: 0.1860\tD(x): 1.0000\tD(G(z)): 0.0000 / 0.0000\n",
      "[15/50][700/782]\tLoss_D: 0.0000\tLoss_G: 0.1761\tD(x): 1.0000\tD(G(z)): 0.0000 / 0.0000\n",
      "[15/50][750/782]\tLoss_D: 0.0000\tLoss_G: 0.1838\tD(x): 1.0000\tD(G(z)): 0.0000 / 0.0000\n",
      "[16/50][0/782]\tLoss_D: 0.0000\tLoss_G: 0.1944\tD(x): 1.0000\tD(G(z)): 0.0000 / 0.0000\n",
      "[16/50][50/782]\tLoss_D: 0.0000\tLoss_G: 0.2011\tD(x): 1.0000\tD(G(z)): 0.0000 / 0.0000\n",
      "[16/50][100/782]\tLoss_D: 0.0000\tLoss_G: 0.1743\tD(x): 1.0000\tD(G(z)): 0.0000 / 0.0000\n",
      "[16/50][150/782]\tLoss_D: 0.0000\tLoss_G: 0.1687\tD(x): 1.0000\tD(G(z)): 0.0000 / 0.0000\n",
      "[16/50][200/782]\tLoss_D: 0.0000\tLoss_G: 0.1778\tD(x): 1.0000\tD(G(z)): 0.0000 / 0.0000\n",
      "[16/50][250/782]\tLoss_D: 0.0000\tLoss_G: 0.2061\tD(x): 1.0000\tD(G(z)): 0.0000 / 0.0000\n",
      "[16/50][300/782]\tLoss_D: 0.0000\tLoss_G: 0.1897\tD(x): 1.0000\tD(G(z)): 0.0000 / 0.0000\n",
      "[16/50][350/782]\tLoss_D: 0.0000\tLoss_G: 0.1938\tD(x): 1.0000\tD(G(z)): 0.0000 / 0.0000\n",
      "[16/50][400/782]\tLoss_D: 0.0000\tLoss_G: 0.1827\tD(x): 1.0000\tD(G(z)): 0.0000 / 0.0000\n",
      "[16/50][450/782]\tLoss_D: 0.0000\tLoss_G: 0.1852\tD(x): 1.0000\tD(G(z)): 0.0000 / 0.0000\n",
      "[16/50][500/782]\tLoss_D: 0.0000\tLoss_G: 0.1839\tD(x): 1.0000\tD(G(z)): 0.0000 / 0.0000\n",
      "[16/50][550/782]\tLoss_D: 0.0000\tLoss_G: 0.1870\tD(x): 1.0000\tD(G(z)): 0.0000 / 0.0000\n",
      "[16/50][600/782]\tLoss_D: 0.0000\tLoss_G: 0.2154\tD(x): 1.0000\tD(G(z)): 0.0000 / 0.0000\n",
      "[16/50][650/782]\tLoss_D: 0.0000\tLoss_G: 0.1854\tD(x): 1.0000\tD(G(z)): 0.0000 / 0.0000\n",
      "[16/50][700/782]\tLoss_D: 0.0000\tLoss_G: 0.1756\tD(x): 1.0000\tD(G(z)): 0.0000 / 0.0000\n",
      "[16/50][750/782]\tLoss_D: 0.0000\tLoss_G: 0.1830\tD(x): 1.0000\tD(G(z)): 0.0000 / 0.0000\n",
      "[17/50][0/782]\tLoss_D: 0.0000\tLoss_G: 0.1932\tD(x): 1.0000\tD(G(z)): 0.0000 / 0.0000\n",
      "[17/50][50/782]\tLoss_D: 0.0000\tLoss_G: 0.1995\tD(x): 1.0000\tD(G(z)): 0.0000 / 0.0000\n",
      "[17/50][100/782]\tLoss_D: 0.0000\tLoss_G: 0.1719\tD(x): 1.0000\tD(G(z)): 0.0000 / 0.0000\n",
      "[17/50][150/782]\tLoss_D: 0.0001\tLoss_G: 0.1674\tD(x): 0.9999\tD(G(z)): 0.0000 / 0.0000\n",
      "[17/50][200/782]\tLoss_D: 0.0000\tLoss_G: 0.1768\tD(x): 1.0000\tD(G(z)): 0.0000 / 0.0000\n",
      "[17/50][250/782]\tLoss_D: 0.0000\tLoss_G: 0.2040\tD(x): 1.0000\tD(G(z)): 0.0000 / 0.0000\n",
      "[17/50][300/782]\tLoss_D: 0.0000\tLoss_G: 0.1886\tD(x): 1.0000\tD(G(z)): 0.0000 / 0.0000\n",
      "[17/50][350/782]\tLoss_D: 0.0027\tLoss_G: 0.1901\tD(x): 0.9997\tD(G(z)): 0.0024 / 0.0015\n",
      "[17/50][400/782]\tLoss_D: 0.0003\tLoss_G: 0.1810\tD(x): 0.9997\tD(G(z)): 0.0000 / 0.0000\n",
      "[17/50][450/782]\tLoss_D: 0.0000\tLoss_G: 0.1866\tD(x): 1.0000\tD(G(z)): 0.0000 / 0.0000\n",
      "[17/50][500/782]\tLoss_D: 0.0003\tLoss_G: 0.1870\tD(x): 0.9998\tD(G(z)): 0.0000 / 0.0000\n",
      "[17/50][550/782]\tLoss_D: 0.0000\tLoss_G: 0.1856\tD(x): 1.0000\tD(G(z)): 0.0000 / 0.0000\n",
      "[17/50][600/782]\tLoss_D: 0.0006\tLoss_G: 0.2144\tD(x): 1.0000\tD(G(z)): 0.0006 / 0.0005\n",
      "[17/50][650/782]\tLoss_D: 0.0013\tLoss_G: 0.1857\tD(x): 0.9987\tD(G(z)): 0.0000 / 0.0000\n",
      "[17/50][700/782]\tLoss_D: 0.0001\tLoss_G: 0.1744\tD(x): 0.9999\tD(G(z)): 0.0000 / 0.0000\n",
      "[17/50][750/782]\tLoss_D: 0.0000\tLoss_G: 0.1834\tD(x): 1.0000\tD(G(z)): 0.0000 / 0.0000\n",
      "[18/50][0/782]\tLoss_D: 0.0000\tLoss_G: 0.1922\tD(x): 1.0000\tD(G(z)): 0.0000 / 0.0000\n",
      "[18/50][50/782]\tLoss_D: 0.0000\tLoss_G: 0.1976\tD(x): 1.0000\tD(G(z)): 0.0000 / 0.0000\n",
      "[18/50][100/782]\tLoss_D: 0.0000\tLoss_G: 0.1699\tD(x): 1.0000\tD(G(z)): 0.0000 / 0.0000\n",
      "[18/50][150/782]\tLoss_D: 0.0000\tLoss_G: 0.1663\tD(x): 1.0000\tD(G(z)): 0.0000 / 0.0000\n",
      "[18/50][200/782]\tLoss_D: 0.0000\tLoss_G: 0.1809\tD(x): 1.0000\tD(G(z)): 0.0000 / 0.0000\n",
      "[18/50][250/782]\tLoss_D: 0.0000\tLoss_G: 0.2034\tD(x): 1.0000\tD(G(z)): 0.0000 / 0.0000\n",
      "[18/50][300/782]\tLoss_D: 0.0001\tLoss_G: 0.1869\tD(x): 1.0000\tD(G(z)): 0.0001 / 0.0001\n",
      "[18/50][350/782]\tLoss_D: 0.0000\tLoss_G: 0.1888\tD(x): 1.0000\tD(G(z)): 0.0000 / 0.0000\n",
      "[18/50][400/782]\tLoss_D: 0.0000\tLoss_G: 0.1805\tD(x): 1.0000\tD(G(z)): 0.0000 / 0.0000\n",
      "[18/50][450/782]\tLoss_D: 0.0000\tLoss_G: 0.1865\tD(x): 1.0000\tD(G(z)): 0.0000 / 0.0000\n",
      "[18/50][500/782]\tLoss_D: 0.0976\tLoss_G: 0.1839\tD(x): 1.0000\tD(G(z)): 0.0765 / 0.0000\n",
      "[18/50][550/782]\tLoss_D: 0.0000\tLoss_G: 0.1858\tD(x): 1.0000\tD(G(z)): 0.0000 / 0.0000\n",
      "[18/50][600/782]\tLoss_D: 0.0000\tLoss_G: 0.2162\tD(x): 1.0000\tD(G(z)): 0.0000 / 0.0000\n",
      "[18/50][650/782]\tLoss_D: 0.0002\tLoss_G: 0.1852\tD(x): 0.9998\tD(G(z)): 0.0000 / 0.0000\n",
      "[18/50][700/782]\tLoss_D: 0.0002\tLoss_G: 0.1740\tD(x): 0.9998\tD(G(z)): 0.0000 / 0.0000\n",
      "[18/50][750/782]\tLoss_D: 0.0000\tLoss_G: 0.1837\tD(x): 1.0000\tD(G(z)): 0.0000 / 0.0000\n",
      "[19/50][0/782]\tLoss_D: 0.0000\tLoss_G: 0.1930\tD(x): 1.0000\tD(G(z)): 0.0000 / 0.0000\n",
      "[19/50][50/782]\tLoss_D: 0.0000\tLoss_G: 0.1962\tD(x): 1.0000\tD(G(z)): 0.0000 / 0.0000\n",
      "[19/50][100/782]\tLoss_D: 0.0000\tLoss_G: 0.1691\tD(x): 1.0000\tD(G(z)): 0.0000 / 0.0000\n",
      "[19/50][150/782]\tLoss_D: 0.0000\tLoss_G: 0.1658\tD(x): 1.0000\tD(G(z)): 0.0000 / 0.0000\n",
      "[19/50][200/782]\tLoss_D: 0.0000\tLoss_G: 0.1754\tD(x): 1.0000\tD(G(z)): 0.0000 / 0.0000\n",
      "[19/50][250/782]\tLoss_D: 0.0000\tLoss_G: 0.2022\tD(x): 1.0000\tD(G(z)): 0.0000 / 0.0000\n",
      "[19/50][300/782]\tLoss_D: 0.0000\tLoss_G: 0.1858\tD(x): 1.0000\tD(G(z)): 0.0000 / 0.0000\n",
      "[19/50][350/782]\tLoss_D: 0.0000\tLoss_G: 0.1891\tD(x): 1.0000\tD(G(z)): 0.0000 / 0.0000\n",
      "[19/50][400/782]\tLoss_D: 0.0000\tLoss_G: 0.1805\tD(x): 1.0000\tD(G(z)): 0.0000 / 0.0000\n",
      "[19/50][450/782]\tLoss_D: 0.0000\tLoss_G: 0.1874\tD(x): 1.0000\tD(G(z)): 0.0000 / 0.0000\n",
      "[19/50][500/782]\tLoss_D: 0.0000\tLoss_G: 0.1833\tD(x): 1.0000\tD(G(z)): 0.0000 / 0.0000\n",
      "[19/50][550/782]\tLoss_D: 0.0000\tLoss_G: 0.1850\tD(x): 1.0000\tD(G(z)): 0.0000 / 0.0000\n",
      "[19/50][600/782]\tLoss_D: 0.0000\tLoss_G: 0.2152\tD(x): 1.0000\tD(G(z)): 0.0000 / 0.0000\n",
      "[19/50][650/782]\tLoss_D: 0.0001\tLoss_G: 0.1858\tD(x): 0.9999\tD(G(z)): 0.0000 / 0.0000\n",
      "[19/50][700/782]\tLoss_D: 0.0001\tLoss_G: 0.1738\tD(x): 0.9999\tD(G(z)): 0.0000 / 0.0000\n",
      "[19/50][750/782]\tLoss_D: 0.0000\tLoss_G: 0.1823\tD(x): 1.0000\tD(G(z)): 0.0000 / 0.0000\n",
      "[20/50][0/782]\tLoss_D: 0.0000\tLoss_G: 0.1926\tD(x): 1.0000\tD(G(z)): 0.0000 / 0.0000\n",
      "[20/50][50/782]\tLoss_D: 0.0000\tLoss_G: 0.1956\tD(x): 1.0000\tD(G(z)): 0.0000 / 0.0000\n",
      "[20/50][100/782]\tLoss_D: 0.0000\tLoss_G: 0.1685\tD(x): 1.0000\tD(G(z)): 0.0000 / 0.0000\n",
      "[20/50][150/782]\tLoss_D: 0.0000\tLoss_G: 0.1656\tD(x): 1.0000\tD(G(z)): 0.0000 / 0.0000\n",
      "[20/50][200/782]\tLoss_D: 0.0000\tLoss_G: 0.1752\tD(x): 1.0000\tD(G(z)): 0.0000 / 0.0000\n",
      "[20/50][250/782]\tLoss_D: 0.0000\tLoss_G: 0.2038\tD(x): 1.0000\tD(G(z)): 0.0000 / 0.0000\n",
      "[20/50][300/782]\tLoss_D: 0.0000\tLoss_G: 0.1864\tD(x): 1.0000\tD(G(z)): 0.0000 / 0.0000\n",
      "[20/50][350/782]\tLoss_D: 0.0000\tLoss_G: 0.1908\tD(x): 1.0000\tD(G(z)): 0.0000 / 0.0000\n",
      "[20/50][400/782]\tLoss_D: 0.0000\tLoss_G: 0.1808\tD(x): 1.0000\tD(G(z)): 0.0000 / 0.0000\n",
      "[20/50][450/782]\tLoss_D: 0.0000\tLoss_G: 0.1818\tD(x): 1.0000\tD(G(z)): 0.0000 / 0.0000\n",
      "[20/50][500/782]\tLoss_D: 0.0000\tLoss_G: 0.1842\tD(x): 1.0000\tD(G(z)): 0.0000 / 0.0000\n"
     ]
    }
   ],
   "source": [
    "# Apply the weights_init function to randomly initialize all weights\n",
    "#  to mean=0, stdev=0.2.\n",
    "netD.apply(weights_init)\n",
    "# Print the model\n",
    "# print(netD)\n",
    "# Initialize BCELoss function\n",
    "criterion = nn.BCELoss()\n",
    "criterion2 = nn.L1Loss()\n",
    "criterion3 = nn.MSELoss()\n",
    "# Create batch of latent vectors that we will use to visualize\n",
    "#  the progression of the generator\n",
    "fixed_noise = torch.randn(64, nz, 1, 1, device=device) # + torch.[kp1.txt]\n",
    "# Establish convention for real and fake labels during training\n",
    "real_label = 1.\n",
    "fake_label = 0.\n",
    "# Setup Adam optimizers for both G and D\n",
    "optimizerD = optim.Adam(netD.parameters(), lr=lr, betas=(beta1, 0.999))\n",
    "optimizerG = optim.Adam(netG.parameters(), lr=lr, betas=(beta1, 0.999))\n",
    "# Training Loop\n",
    "# Lists to keep track of progress\n",
    "img_list = []\n",
    "img_list2 = []\n",
    "G_losses = []\n",
    "D_losses = []\n",
    "iters = 0\n",
    "print(\"Starting Training Loop...\")\n",
    "# For each epoch\n",
    "for epoch in range(num_epochs):\n",
    "    # For each batch in the dataloader\n",
    "    for i, data in enumerate(dataloader_x):\n",
    "        \n",
    "        ############################\n",
    "        # (1) Update D network: maximize log(D(x)) + log(1 - D(G(z)))\n",
    "        ############################\n",
    "        ## Train with all-real batch\n",
    "        netD.zero_grad()\n",
    "        # Format batch\n",
    "        # print(data[0].shape)\n",
    "        target_im = data[1].to(device)/255\n",
    "        b_size = target_im.size(0)\n",
    "\n",
    "        template_im = data[2].to(device)/255\n",
    "        kp_im = data[3].to(device)/255\n",
    "\n",
    "        # print(b_size)\n",
    "        # print(real_cpu.shape)\n",
    "\n",
    "        label = torch.full((b_size,), real_label, dtype=torch.float, device=device)\n",
    "        label1 = torch.full((b_size,), real_label, dtype=torch.float, device=device)\n",
    "\n",
    "        \n",
    "        # print('true pairs')\n",
    "        # print(target_im.shape)\n",
    "        # print(template_im.shape)\n",
    "\n",
    "        # this increases some dimensions\n",
    "        true_pair = target_im + template_im # torch.cat((target_im, template_im), -1) # keep row height and append in columns  \n",
    "        # true_pair = torch.cat((target_im[::2], inputs[1::2]), 2)\n",
    "        # print(true_pair.shape)\n",
    "\n",
    "        # Forward pass real batch through D\n",
    "        output = netD(true_pair).view(-1)\n",
    "        # print(netD(true_pair).shape)\n",
    "\n",
    "\n",
    "        # print('this is output')\n",
    "        # print(output.shape)\n",
    "\n",
    "        # Calculate loss on all-real batch\n",
    "        errD_real = criterion(output, label)\n",
    "        # Calculate gradients for D in backward pass\n",
    "        errD_real.backward()\n",
    "        D_x = output.mean().item()\n",
    "\n",
    "\n",
    "        ## Train with all-fake batch\n",
    "        # Generate batch of latent vectors\n",
    "        noise = torch.randn(b_size, 3, 64, 64, device=device)*0\n",
    "\n",
    "        # print(noise.shape)\n",
    "        # Generate fake image batch with G\n",
    "        source_data = data[0].to(device)/255 # .reshape(b_size, nz,3,1)\n",
    "\n",
    "\n",
    "        # input to generator with source\n",
    "        # fake_cat =  torch.cat((source_data, template_im), -1)\n",
    "\n",
    "        fake = netG(source_data) # source_data was before here\n",
    "        label1.fill_(fake_label)\n",
    "\n",
    "        # nother Network\n",
    "        # netG2(source_data)\n",
    "\n",
    "        # input to generator with target\n",
    "        # real_cat = torch.cat((target_im+kp_im, target_im ), -1)\n",
    "\n",
    "        # fake_ = netG(real_cat)\n",
    "        # label1.fill_(fake_label)\n",
    "\n",
    "\n",
    "\n",
    "\n",
    "        fake_pair = fake + template_im # torch.cat((fake, template_im), -1) # keep row height and append in columns  \n",
    "        # print(fake_pair.shape)\n",
    "        # Classify all fake batch with D\n",
    "        output = netD(fake_pair.detach()).view(-1)\n",
    "\n",
    "\n",
    "        # print(output.shape)\n",
    "        # print(label.shape)\n",
    "\n",
    "        # Calculate D's loss on the all-fake batch\n",
    "        errD_fake = criterion(output, label1)\n",
    "        # Calculate the gradients for this batch, accumulated (summed) with previous gradients\n",
    "        errD_fake.backward()\n",
    "        D_G_z1 = output.mean().item()\n",
    "        # Compute error of D as sum over the fake and the real batches\n",
    "        errD = errD_real + errD_fake\n",
    "        # Update D\n",
    "        optimizerD.step()\n",
    "\n",
    "        ############################\n",
    "        # (2) Update G network: maximize log(D(G(z)))\n",
    "        ############################\n",
    "        netG.zero_grad()\n",
    "        label.fill_(real_label)  # fake labels are real for generator cost\n",
    "        # Since we just updated D, perform another forward pass of all-fake batch through D\n",
    "        output = netD(fake_pair).view(-1)\n",
    "        # Calculate G's loss based on this output\n",
    "        errG = criterion3(fake, target_im) + criterion2(fake, target_im)\n",
    "        # Calculate gradients for G\n",
    "        errG.backward()\n",
    "        D_G_z2 = output.mean().item()\n",
    "        # Update G\n",
    "        optimizerG.step()\n",
    "\n",
    "        # Output training stats\n",
    "        if i % 50 == 0:\n",
    "            print('[%d/%d][%d/%d]\\tLoss_D: %.4f\\tLoss_G: %.4f\\tD(x): %.4f\\tD(G(z)): %.4f / %.4f'\n",
    "                  % (epoch, num_epochs, i, len(dataloader_x),\n",
    "                     errD.item(), errG.item(), D_x, D_G_z1, D_G_z2))\n",
    "\n",
    "        # Save Losses for plotting later\n",
    "        G_losses.append(errG.item())\n",
    "        D_losses.append(errD.item())\n",
    "\n",
    "        # Check how the generator is doing by saving G's output on fixed_noise\n",
    "        if (iters % 500 == 0) or ((epoch == num_epochs-1) and (i == len(dataloader_x)-1)):\n",
    "            with torch.no_grad():\n",
    "                fake = netG(source_data).detach().cpu()\n",
    "            img_list.append(vutils.make_grid(fake, padding=2, normalize=True))\n",
    "            img_list2.append(vutils.make_grid(target_im, padding=2, normalize=True))\n",
    "\n",
    "        iters += 1\n",
    "\n"
   ]
  },
  {
   "cell_type": "code",
   "execution_count": 107,
   "metadata": {},
   "outputs": [
    {
     "data": {
      "image/png": "[encoded data removed]",
      "text/plain": "<Figure size 432x288 with 1 Axes>"
     },
     "metadata": {
      "needs_background": "light",
      "transient": {}
     },
     "output_type": "display_data"
    }
   ],
   "source": [
    "img_list[-1][0,:,:]\n",
    "plt.imshow(img_list[-1][:,0:64,0:64].permute(1,2,0))\n",
    "plt.show()"
   ]
  },
  {
   "cell_type": "code",
   "execution_count": 108,
   "metadata": {},
   "outputs": [
    {
     "data": {
      "image/png": "[encoded data removed]",
      "text/plain": "<Figure size 432x288 with 1 Axes>"
     },
     "metadata": {
      "needs_background": "light",
      "transient": {}
     },
     "output_type": "display_data"
    }
   ],
   "source": [
    "plt.imshow(img_list2[-1][:,0:64,0:64].permute(1,2,0).cpu())\n",
    "plt.show()"
   ]
  },
  {
   "cell_type": "code",
   "execution_count": 27,
   "metadata": {},
   "outputs": [
    {
     "data": {
      "text/plain": "True"
     },
     "execution_count": 27,
     "metadata": {},
     "output_type": "execute_result"
    }
   ],
   "source": [
    "cv2.imwrite( 'target1.jpeg',img_list2[-1][:,0:64,0:64].permute(1,2,0).cpu().numpy()*255)"
   ]
  },
  {
   "cell_type": "code",
   "execution_count": 28,
   "metadata": {},
   "outputs": [
    {
     "data": {
      "text/plain": "True"
     },
     "execution_count": 28,
     "metadata": {},
     "output_type": "execute_result"
    }
   ],
   "source": [
    "cv2.imwrite( 'output1.jpeg',img_list[-1][:,0:64,0:64].permute(1,2,0).cpu().numpy()*255)"
   ]
  },
  {
   "cell_type": "code",
   "execution_count": 29,
   "metadata": {},
   "outputs": [],
   "source": [
    "torch.save(netG.state_dict(), 'baseline2.pth')"
   ]
  },
  {
   "cell_type": "code",
   "execution_count": 169,
   "metadata": {},
   "outputs": [
    {
     "data": {
      "image/png": "[encoded data removed]",
      "text/plain": "<Figure size 720x360 with 1 Axes>"
     },
     "metadata": {
      "needs_background": "light",
      "transient": {}
     },
     "output_type": "display_data"
    },
    {
     "ename": "TypeError",
     "evalue": "Invalid shape (3, 530, 530) for image data",
     "output_type": "error",
     "traceback": [
      "\u001b[0;31m---------------------------------------------------------------------------\u001b[0m",
      "\u001b[0;31mTypeError\u001b[0m                                 Traceback (most recent call last)",
      "\u001b[0;32m<ipython-input-169-690c2e2d36bd>\u001b[0m in \u001b[0;36m<module>\u001b[0;34m\u001b[0m\n\u001b[1;32m     17\u001b[0m \u001b[0mHTML\u001b[0m\u001b[0;34m(\u001b[0m\u001b[0mani\u001b[0m\u001b[0;34m.\u001b[0m\u001b[0mto_jshtml\u001b[0m\u001b[0;34m(\u001b[0m\u001b[0;34m)\u001b[0m\u001b[0;34m)\u001b[0m\u001b[0;34m\u001b[0m\u001b[0;34m\u001b[0m\u001b[0m\n\u001b[1;32m     18\u001b[0m \u001b[0;34m\u001b[0m\u001b[0m\n\u001b[0;32m---> 19\u001b[0;31m \u001b[0mplt\u001b[0m\u001b[0;34m.\u001b[0m\u001b[0mimshow\u001b[0m\u001b[0;34m(\u001b[0m\u001b[0mimg_list\u001b[0m\u001b[0;34m[\u001b[0m\u001b[0;36m1\u001b[0m\u001b[0;34m]\u001b[0m\u001b[0;34m)\u001b[0m\u001b[0;34m\u001b[0m\u001b[0;34m\u001b[0m\u001b[0m\n\u001b[0m\u001b[1;32m     20\u001b[0m \u001b[0mplt\u001b[0m\u001b[0;34m.\u001b[0m\u001b[0mshow\u001b[0m\u001b[0;34m(\u001b[0m\u001b[0;34m)\u001b[0m\u001b[0;34m\u001b[0m\u001b[0;34m\u001b[0m\u001b[0m\n\u001b[1;32m     21\u001b[0m \u001b[0;34m\u001b[0m\u001b[0m\n",
      "\u001b[0;32m~/anaconda3/lib/python3.8/site-packages/matplotlib/pyplot.py\u001b[0m in \u001b[0;36mimshow\u001b[0;34m(X, cmap, norm, aspect, interpolation, alpha, vmin, vmax, origin, extent, filternorm, filterrad, resample, url, data, **kwargs)\u001b[0m\n\u001b[1;32m   2722\u001b[0m         \u001b[0mfilternorm\u001b[0m\u001b[0;34m=\u001b[0m\u001b[0;32mTrue\u001b[0m\u001b[0;34m,\u001b[0m \u001b[0mfilterrad\u001b[0m\u001b[0;34m=\u001b[0m\u001b[0;36m4.0\u001b[0m\u001b[0;34m,\u001b[0m \u001b[0mresample\u001b[0m\u001b[0;34m=\u001b[0m\u001b[0;32mNone\u001b[0m\u001b[0;34m,\u001b[0m \u001b[0murl\u001b[0m\u001b[0;34m=\u001b[0m\u001b[0;32mNone\u001b[0m\u001b[0;34m,\u001b[0m\u001b[0;34m\u001b[0m\u001b[0;34m\u001b[0m\u001b[0m\n\u001b[1;32m   2723\u001b[0m         data=None, **kwargs):\n\u001b[0;32m-> 2724\u001b[0;31m     __ret = gca().imshow(\n\u001b[0m\u001b[1;32m   2725\u001b[0m         \u001b[0mX\u001b[0m\u001b[0;34m,\u001b[0m \u001b[0mcmap\u001b[0m\u001b[0;34m=\u001b[0m\u001b[0mcmap\u001b[0m\u001b[0;34m,\u001b[0m \u001b[0mnorm\u001b[0m\u001b[0;34m=\u001b[0m\u001b[0mnorm\u001b[0m\u001b[0;34m,\u001b[0m \u001b[0maspect\u001b[0m\u001b[0;34m=\u001b[0m\u001b[0maspect\u001b[0m\u001b[0;34m,\u001b[0m\u001b[0;34m\u001b[0m\u001b[0;34m\u001b[0m\u001b[0m\n\u001b[1;32m   2726\u001b[0m         \u001b[0minterpolation\u001b[0m\u001b[0;34m=\u001b[0m\u001b[0minterpolation\u001b[0m\u001b[0;34m,\u001b[0m \u001b[0malpha\u001b[0m\u001b[0;34m=\u001b[0m\u001b[0malpha\u001b[0m\u001b[0;34m,\u001b[0m \u001b[0mvmin\u001b[0m\u001b[0;34m=\u001b[0m\u001b[0mvmin\u001b[0m\u001b[0;34m,\u001b[0m\u001b[0;34m\u001b[0m\u001b[0;34m\u001b[0m\u001b[0m\n",
      "\u001b[0;32m~/anaconda3/lib/python3.8/site-packages/matplotlib/__init__.py\u001b[0m in \u001b[0;36minner\u001b[0;34m(ax, data, *args, **kwargs)\u001b[0m\n\u001b[1;32m   1436\u001b[0m     \u001b[0;32mdef\u001b[0m \u001b[0minner\u001b[0m\u001b[0;34m(\u001b[0m\u001b[0max\u001b[0m\u001b[0;34m,\u001b[0m \u001b[0;34m*\u001b[0m\u001b[0margs\u001b[0m\u001b[0;34m,\u001b[0m \u001b[0mdata\u001b[0m\u001b[0;34m=\u001b[0m\u001b[0;32mNone\u001b[0m\u001b[0;34m,\u001b[0m \u001b[0;34m**\u001b[0m\u001b[0mkwargs\u001b[0m\u001b[0;34m)\u001b[0m\u001b[0;34m:\u001b[0m\u001b[0;34m\u001b[0m\u001b[0;34m\u001b[0m\u001b[0m\n\u001b[1;32m   1437\u001b[0m         \u001b[0;32mif\u001b[0m \u001b[0mdata\u001b[0m \u001b[0;32mis\u001b[0m \u001b[0;32mNone\u001b[0m\u001b[0;34m:\u001b[0m\u001b[0;34m\u001b[0m\u001b[0;34m\u001b[0m\u001b[0m\n\u001b[0;32m-> 1438\u001b[0;31m             \u001b[0;32mreturn\u001b[0m \u001b[0mfunc\u001b[0m\u001b[0;34m(\u001b[0m\u001b[0max\u001b[0m\u001b[0;34m,\u001b[0m \u001b[0;34m*\u001b[0m\u001b[0mmap\u001b[0m\u001b[0;34m(\u001b[0m\u001b[0msanitize_sequence\u001b[0m\u001b[0;34m,\u001b[0m \u001b[0margs\u001b[0m\u001b[0;34m)\u001b[0m\u001b[0;34m,\u001b[0m \u001b[0;34m**\u001b[0m\u001b[0mkwargs\u001b[0m\u001b[0;34m)\u001b[0m\u001b[0;34m\u001b[0m\u001b[0;34m\u001b[0m\u001b[0m\n\u001b[0m\u001b[1;32m   1439\u001b[0m \u001b[0;34m\u001b[0m\u001b[0m\n\u001b[1;32m   1440\u001b[0m         \u001b[0mbound\u001b[0m \u001b[0;34m=\u001b[0m \u001b[0mnew_sig\u001b[0m\u001b[0;34m.\u001b[0m\u001b[0mbind\u001b[0m\u001b[0;34m(\u001b[0m\u001b[0max\u001b[0m\u001b[0;34m,\u001b[0m \u001b[0;34m*\u001b[0m\u001b[0margs\u001b[0m\u001b[0;34m,\u001b[0m \u001b[0;34m**\u001b[0m\u001b[0mkwargs\u001b[0m\u001b[0;34m)\u001b[0m\u001b[0;34m\u001b[0m\u001b[0;34m\u001b[0m\u001b[0m\n",
      "\u001b[0;32m~/anaconda3/lib/python3.8/site-packages/matplotlib/axes/_axes.py\u001b[0m in \u001b[0;36mimshow\u001b[0;34m(self, X, cmap, norm, aspect, interpolation, alpha, vmin, vmax, origin, extent, filternorm, filterrad, resample, url, **kwargs)\u001b[0m\n\u001b[1;32m   5521\u001b[0m                               resample=resample, **kwargs)\n\u001b[1;32m   5522\u001b[0m \u001b[0;34m\u001b[0m\u001b[0m\n\u001b[0;32m-> 5523\u001b[0;31m         \u001b[0mim\u001b[0m\u001b[0;34m.\u001b[0m\u001b[0mset_data\u001b[0m\u001b[0;34m(\u001b[0m\u001b[0mX\u001b[0m\u001b[0;34m)\u001b[0m\u001b[0;34m\u001b[0m\u001b[0;34m\u001b[0m\u001b[0m\n\u001b[0m\u001b[1;32m   5524\u001b[0m         \u001b[0mim\u001b[0m\u001b[0;34m.\u001b[0m\u001b[0mset_alpha\u001b[0m\u001b[0;34m(\u001b[0m\u001b[0malpha\u001b[0m\u001b[0;34m)\u001b[0m\u001b[0;34m\u001b[0m\u001b[0;34m\u001b[0m\u001b[0m\n\u001b[1;32m   5525\u001b[0m         \u001b[0;32mif\u001b[0m \u001b[0mim\u001b[0m\u001b[0;34m.\u001b[0m\u001b[0mget_clip_path\u001b[0m\u001b[0;34m(\u001b[0m\u001b[0;34m)\u001b[0m \u001b[0;32mis\u001b[0m \u001b[0;32mNone\u001b[0m\u001b[0;34m:\u001b[0m\u001b[0;34m\u001b[0m\u001b[0;34m\u001b[0m\u001b[0m\n",
      "\u001b[0;32m~/anaconda3/lib/python3.8/site-packages/matplotlib/image.py\u001b[0m in \u001b[0;36mset_data\u001b[0;34m(self, A)\u001b[0m\n\u001b[1;32m    707\u001b[0m         if not (self._A.ndim == 2\n\u001b[1;32m    708\u001b[0m                 or self._A.ndim == 3 and self._A.shape[-1] in [3, 4]):\n\u001b[0;32m--> 709\u001b[0;31m             raise TypeError(\"Invalid shape {} for image data\"\n\u001b[0m\u001b[1;32m    710\u001b[0m                             .format(self._A.shape))\n\u001b[1;32m    711\u001b[0m \u001b[0;34m\u001b[0m\u001b[0m\n",
      "\u001b[0;31mTypeError\u001b[0m: Invalid shape (3, 530, 530) for image data"
     ]
    },
    {
     "data": {
      "image/png": "[encoded data removed]",
      "text/plain": "<Figure size 576x576 with 1 Axes>"
     },
     "metadata": {
      "needs_background": "light",
      "transient": {}
     },
     "output_type": "display_data"
    }
   ],
   "source": [
    "plt.figure(figsize=(10,5))\n",
    "plt.title(\"Generator and Discriminator Loss During Training\")\n",
    "plt.plot(G_losses,label=\"G\")\n",
    "plt.plot(D_losses,label=\"D\")\n",
    "plt.xlabel(\"iterations\")\n",
    "plt.ylabel(\"Loss\")\n",
    "plt.legend()\n",
    "plt.show()\n",
    "\n",
    "\n",
    "#%%capture\n",
    "fig = plt.figure(figsize=(8,8))\n",
    "plt.axis(\"off\")\n",
    "ims = [[plt.imshow(np.transpose(i,(1,2,0)), animated=True)] for i in img_list]\n",
    "ani = animation.ArtistAnimation(fig, ims, interval=1000, repeat_delay=1000, blit=True)\n",
    "\n",
    "HTML(ani.to_jshtml())\n",
    "\n",
    "plt.imshow(img_list[1])\n",
    "plt.show()\n",
    "\n",
    "# Grab a batch of real images from the dataloader\n",
    "# real_batch = next(iter(dataloader))\n",
    "\n",
    "# # Plot the real images\n",
    "# plt.figure(figsize=(15,15))\n",
    "# plt.subplot(1,2,1)\n",
    "# plt.axis(\"off\")\n",
    "# plt.title(\"Real Images\")\n",
    "# plt.imshow(np.transpose(vutils.make_grid(real_batch[0].to(device)[:64], padding=5, normalize=True).cpu(),(1,2,0)))\n",
    "\n",
    "# # Plot the fake images from the last epoch\n",
    "# plt.subplot(1,2,2)\n",
    "# plt.axis(\"off\")\n",
    "# plt.title(\"Fake Images\")\n",
    "# plt.imshow(np.transpose(img_list[-1],(1,2,0)))\n",
    "# plt.show()"
   ]
  },
  {
   "cell_type": "code",
   "execution_count": 125,
   "metadata": {},
   "outputs": [],
   "source": [
    "results_path = \"data/results/baseline2/\"\n",
    "data_path_test = \"data/Testing_set2/\"\n",
    "# extract information from train.txt\n",
    "f = open(os.path.join(data_path_test, \"testing_set.txt\"), \"r\")\n",
    "contents_test = f.readlines()\n",
    "test_image, test_kp, gt_test_image = [], [], []\n",
    "for sample in contents_test:\n",
    "    sample = sample.split()\n",
    "    ii, kk, gi = sample[0], sample[1], sample[2]\n",
    "    # print(data_path_test+ii)\n",
    "    # print(data_path_test+kk)\n",
    "\n",
    "    truth = gi.split('/')[1]\n",
    "\n",
    "    test_image.append(data_path_test+ii)\n",
    "    test_kp.append(data_path_test+kk)\n",
    "    gt_test_image.append(truth)\n",
    "\n",
    "    tmp_im = cv2.imread(data_path_test+ii, 0)\n",
    "\n",
    "    er_kp = np.loadtxt(data_path_test+kk)\n",
    "\n",
    "    # break"
   ]
  },
  {
   "cell_type": "code",
   "execution_count": 126,
   "metadata": {},
   "outputs": [],
   "source": [
    "kp_images = []\n",
    "images = []\n",
    "for i in range(len(test_kp)):\n",
    "    gt_im = test(test_kp[i])\n",
    "\n",
    "    images.append(cv2.imread(test_image[i]))\n",
    "    kp_images.append(gt_im)"
   ]
  },
  {
   "cell_type": "code",
   "execution_count": 127,
   "metadata": {},
   "outputs": [],
   "source": [
    "# preprocess the input data\n",
    "# concatenate source with keypoint\n",
    "concat_data = []\n",
    "concat_data2 = []\n",
    "image_test_list = []\n",
    "kp_image_list = []\n",
    "\n",
    "for i in range(len(images)):\n",
    "\n",
    "    a = np.asarray(im.fromarray(kp_images[i]*255))\n",
    "    col_a = cv2.cvtColor(a, cv2.COLOR_GRAY2RGB) # take the rgb of the key points\n",
    "\n",
    "    \n",
    "    kp_image_list.append( cv2.resize(col_a, [64,64]) /255 )\n",
    "    image_test_list.append( cv2.resize(images[i], [64,64]) /255 )\n",
    "\n",
    "\n",
    "    im_v = kp_image_list[i] + image_test_list[i] # cv2.hconcat( [images[i], kp_images[i]+images[i]] )# .reshape(64,64,3)\n",
    "\n",
    "    # resize image\n",
    "    im_v = im_v\n",
    "    concat_data.append(im_v) # .reshape([1,64,64])"
   ]
  },
  {
   "cell_type": "code",
   "execution_count": 128,
   "metadata": {},
   "outputs": [],
   "source": [
    "image_test_list[0].shape\n",
    "my_k = image_test_list[0].reshape(1,64,64,3)\n",
    "tensor_k = torch.Tensor(my_k).permute(0,3,1,2)"
   ]
  },
  {
   "cell_type": "code",
   "execution_count": 129,
   "metadata": {},
   "outputs": [
    {
     "data": {
      "text/plain": "torch.Size([1, 3, 64, 64])"
     },
     "execution_count": 129,
     "metadata": {},
     "output_type": "execute_result"
    }
   ],
   "source": [
    "tensor_k.shape"
   ]
  },
  {
   "cell_type": "code",
   "execution_count": 130,
   "metadata": {},
   "outputs": [],
   "source": [
    "results_list = []\n",
    "for i in range(len(concat_data)):\n",
    "    my_k = concat_data[i].reshape(1,64,64,3)\n",
    "    tensor_k = torch.Tensor(my_k).permute(0,3,1,2)\n",
    "    result = netG(tensor_k)\n",
    "\n",
    "    result = result.permute(0,2,3,1)\n",
    "\n",
    "    with torch.no_grad():\n",
    "        #print('yrs')\n",
    "        result = result.detach().cpu()\n",
    "    # img_list.append(vutils.make_grid(fake, padding=2, normalize=True))\n",
    "    # img_list2.append(vutils.make_grid(target_im, padding=2, normalize=True))\n",
    "\n",
    "    results_list.append(result)\n",
    "    # break"
   ]
  },
  {
   "cell_type": "code",
   "execution_count": 131,
   "metadata": {},
   "outputs": [
    {
     "data": {
      "text/plain": "True"
     },
     "execution_count": 131,
     "metadata": {},
     "output_type": "execute_result"
    }
   ],
   "source": [
    "cv2.imwrite( 'res1.jpeg',result[0,:,:,:].cpu().numpy()*255)"
   ]
  },
  {
   "cell_type": "code",
   "execution_count": 132,
   "metadata": {},
   "outputs": [],
   "source": [
    "for i in range(len(gt_test_image)):\n",
    "    name = gt_test_image[i]\n",
    "    cv2.imwrite(results_path+name, results_list[i][0,:,:,:].cpu().numpy()*255)"
   ]
  },
  {
   "cell_type": "code",
   "execution_count": 133,
   "metadata": {},
   "outputs": [
    {
     "data": {
      "text/plain": "'145_051_088_145_147_006.jpg'"
     },
     "execution_count": 133,
     "metadata": {},
     "output_type": "execute_result"
    }
   ],
   "source": [
    "gt_test_image[0]"
   ]
  }
 ],
 "metadata": {
  "kernelspec": {
   "display_name": "Python 3.8.5 64-bit ('base': conda)",
   "metadata": {
    "interpreter": {
     "hash": "37ea763e17ca16afe8a1ef43c39f4d44b0f93bee18d7df77b006282f7f085010"
    }
   },
   "name": "python3"
  },
  "language_info": {
   "codemirror_mode": {
    "name": "ipython",
    "version": 3
   },
   "file_extension": ".py",
   "mimetype": "text/x-python",
   "name": "python",
   "nbconvert_exporter": "python",
   "pygments_lexer": "ipython3",
   "version": "3.8.5"
  },
  "orig_nbformat": 2
 },
 "nbformat": 4,
 "nbformat_minor": 2
}